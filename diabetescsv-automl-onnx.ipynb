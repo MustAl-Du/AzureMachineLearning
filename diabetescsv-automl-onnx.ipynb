{
  "cells": [
    {
      "cell_type": "markdown",
      "source": [
        "# Train and register an ONNX model with AutoML\r\n",
        "---\r\n",
        "---\r\n",
        "\r\n",
        "## Contents\r\n",
        "1. [Introduction](#Introduction)\r\n",
        "2. [Setup](#Setup)\r\n",
        "3. [Data](#Data)\r\n",
        "4. [Train](#Train)\r\n",
        "5. [Synape Link to Azure ML](#SynapeLinktoAzureML)\r\n",
        "6. [Confusion Matrix](#ConfusionMatrix)\r\n",
        "7. [Model Explaination](#ModelExplaination)\r\n",
        "\r\n",
        "---\r\n",
        "\r\n",
        "## Introduction\r\n",
        "Azure Machine Learning provides capabilities to control all aspects of model training and deployment directly from a notebook using the AML Python SDK.  In this notebook we will\r\n",
        "* connect to our AML Workspace\r\n",
        "* create an experiment that contains all runs\r\n",
        "* Run AutoML to find the best model \r\n",
        "* Save the AutoML model as ONNX\r\n",
        "* Register the ONNX Model \r\n",
        "\r\n",
        "In the end the ONNX Model will be accessible through Synapse Link to Azure Machine Learning"
      ],
      "metadata": {
        "nteract": {
          "transient": {
            "deleting": false
          }
        }
      }
    },
    {
      "cell_type": "markdown",
      "source": [
        "---\r\n",
        "\r\n",
        "## Setup\r\n",
        "Create an Azure Machine Learning servcie in Azure, and launch the studio. \r\n",
        "\r\n",
        "Create a Workspace, a Compute Instance (VM) and a new Notebook running on that VM as a compute target.  \r\n",
        "\r\n",
        "This example was forked from https://github.com/Azure/MachineLearningNotebooks, and further developed to present an end-to-end example. \r\n",
        "\r\n",
        "For this notebook we need the Azure ML SDK and access to our workspace.  The following cell imports the SDK, checks the version, and accesses our already configured AzureML workspace. \r\n",
        "\r\n",
        "See more detail on [Git Integration](https://docs.microsoft.com/en-us/azure/machine-learning/concept-train-model-git-integration#:~:text=Azure%20Machine%20Learning%20provides%20a%20shared%20file%20system,work%20with%20Git%20via%20the%20Git%20CLI%20experience) if you need to upload this notebook in AML."
      ],
      "metadata": {
        "nteract": {
          "transient": {
            "deleting": false
          }
        }
      }
    },
    {
      "cell_type": "code",
      "source": [
        "import azureml.core\r\n",
        "from azureml.core import Experiment, Workspace\r\n",
        "\r\n",
        "# Check core SDK version number\r\n",
        "print(\"This notebook was created using version 1.0.2 of the Azure ML SDK\")\r\n",
        "print(\"You are currently using version\", azureml.core.VERSION, \"of the Azure ML SDK\")\r\n",
        "print(\"\")\r\n",
        "\r\n",
        "\r\n",
        "ws = Workspace.from_config()\r\n",
        "print('Workspace name: ' + ws.name, \r\n",
        "      'Azure region: ' + ws.location, \r\n",
        "      'Subscription id: ' + ws.subscription_id, \r\n",
        "      'Resource group: ' + ws.resource_group, sep='\\n')"
      ],
      "outputs": [
        {
          "output_type": "stream",
          "name": "stdout",
          "text": [
            "This notebook was created using version 1.0.2 of the Azure ML SDK\n",
            "You are currently using version 1.29.0 of the Azure ML SDK\n",
            "\n",
            "Workspace name: workspacers\n",
            "Azure region: westus\n",
            "Subscription id: 61489282-e75d-4996-b2ef-3126311e55e6\n",
            "Resource group: ramsoft\n"
          ]
        }
      ],
      "execution_count": 1,
      "metadata": {
        "collapsed": true,
        "jupyter": {
          "source_hidden": false,
          "outputs_hidden": false
        },
        "nteract": {
          "transient": {
            "deleting": false
          }
        },
        "gather": {
          "logged": 1622124223813
        }
      }
    },
    {
      "cell_type": "markdown",
      "source": [
        "---\r\n",
        "\r\n",
        "## Data\r\n",
        "We will use the diabetes dataset for this experiement (https://aka.ms/diabetes-data). \r\n",
        "\r\n",
        "The dataset consists of 8 baseline variables for n=10000 diabetes patients: Pregnancies, PlasmaGlucose, DiastolicBloodPressure, TricepsThickness, SerumInsulin, BMI, DiabetesPedigree, and Age.\r\n",
        "\r\n",
        "The dataset has one dichotomous outcome variable: Diebetic."
      ],
      "metadata": {
        "nteract": {
          "transient": {
            "deleting": false
          }
        }
      }
    },
    {
      "cell_type": "code",
      "source": [
        "from azureml.core import Dataset\r\n",
        "import pandas as pd\r\n",
        "from sklearn.model_selection import train_test_split\r\n",
        "\r\n",
        "# load the diabetes dataset from the same folder where this notebook is located\r\n",
        "print(\"Loading Diabetes Data from the CSV file...\")\r\n",
        "dataset = pd.read_csv('./diabetes.csv')\r\n",
        "\r\n",
        "# Separate features and labels\r\n",
        "X, y = dataset[['Pregnancies','PlasmaGlucose','DiastolicBloodPressure','TricepsThickness','SerumInsulin','BMI','DiabetesPedigree','Age']].values, dataset['Diabetic'].values\r\n",
        "# Split data into training set and test set (80% Training and 20% Testing)\r\n",
        "X_train, X_test, y_train, y_test = train_test_split(X, y, test_size=0.20, random_state=0)\r\n",
        "\r\n",
        "data = {\r\n",
        "    \"train\":{\"X\": X_train, \"y\": y_train},        \r\n",
        "    \"test\":{\"X\": X_test, \"y\": y_test}\r\n",
        "}\r\n",
        "\r\n",
        "print (\"Data contains\", len(data['train']['X']), \"training samples and\",len(data['test']['X']), \"test samples\")\r\n"
      ],
      "outputs": [
        {
          "output_type": "stream",
          "name": "stdout",
          "text": [
            "Loading Diabetes Data from the CSV file...\n",
            "Data contains 8000 training samples and 2000 test samples\n"
          ]
        }
      ],
      "execution_count": 2,
      "metadata": {
        "collapsed": true,
        "jupyter": {
          "source_hidden": false,
          "outputs_hidden": false
        },
        "nteract": {
          "transient": {
            "deleting": false
          }
        },
        "gather": {
          "logged": 1622124229860
        }
      }
    },
    {
      "cell_type": "markdown",
      "source": [
        "---\r\n",
        "## Train\r\n",
        "\r\n",
        "Let's use AutoML to train the dataset. There are two prerequisits for onnx:\r\n",
        "\r\n",
        "1- Use tablular dataset to point to the CSV file (https path required)\r\n",
        "\r\n",
        "2- Remote compute target will be required."
      ],
      "metadata": {
        "nteract": {
          "transient": {
            "deleting": false
          }
        }
      }
    },
    {
      "cell_type": "code",
      "source": [
        "# CSV URL required (public https URL)\r\n",
        "\r\n",
        "# The url for this AML Workspace below is not public and will not work. Hence will us the GitHub RAW URL\r\n",
        "# csv_path = 'https://ml.azure.com/fileexplorerAzNB?wsid=/subscriptions/61489282-e75d-4996-b2ef-3126311e55e6/resourcegroups/Ramsoft/workspaces/workspacers&tid=72f988bf-86f1-41af-91ab-2d7cd011db47&activeFilePath=Users/mualdurr/AzureMachineLearning/diabetescsv-automl-onnx-synapse/diabetes.csv'\r\n",
        "\r\n",
        "csv_path = 'https://raw.githubusercontent.com/MustAl-Du/AzureMachineLearning/main/diabetescsv-regression-aks-drift/diabetes.csv'\r\n",
        "csv_path\r\n"
      ],
      "outputs": [
        {
          "output_type": "execute_result",
          "execution_count": 3,
          "data": {
            "text/plain": "'https://raw.githubusercontent.com/MustAl-Du/AzureMachineLearning/main/diabetescsv-regression-aks-drift/diabetes.csv'"
          },
          "metadata": {}
        }
      ],
      "execution_count": 3,
      "metadata": {
        "collapsed": true,
        "jupyter": {
          "source_hidden": false,
          "outputs_hidden": false
        },
        "nteract": {
          "transient": {
            "deleting": false
          }
        },
        "gather": {
          "logged": 1622124235686
        }
      }
    },
    {
      "cell_type": "code",
      "source": [
        "# Current compute target name\r\n",
        "computetarget_name = 'computeinstancers'\r\n",
        "computetarget_name"
      ],
      "outputs": [
        {
          "output_type": "execute_result",
          "execution_count": 4,
          "data": {
            "text/plain": "'computeinstancers'"
          },
          "metadata": {}
        }
      ],
      "execution_count": 4,
      "metadata": {
        "collapsed": true,
        "jupyter": {
          "source_hidden": false,
          "outputs_hidden": false
        },
        "nteract": {
          "transient": {
            "deleting": false
          }
        },
        "gather": {
          "logged": 1622124238020
        }
      }
    },
    {
      "cell_type": "code",
      "source": [
        "# Make the existing compute instance as the comptue target\r\n",
        "from azureml.core.compute import ComputeTarget, AmlCompute\r\n",
        "from azureml.core.compute_target import ComputeTargetException\r\n",
        "# Verify that cluster does not exist already\r\n",
        "try:\r\n",
        "    compute_target = ComputeTarget(workspace=ws, name=computetarget_name)\r\n",
        "    print('Found existing cluster, use it.')\r\n",
        "except ComputeTargetException:\r\n",
        "    compute_config = AmlCompute.provisioning_configuration(vm_size='STANDARD_D2_V2',\r\n",
        "                                                           max_nodes=6)\r\n",
        "    compute_target = ComputeTarget.create(ws, computetarget_name, compute_config)\r\n",
        "\r\n",
        "compute_target.wait_for_completion(show_output=True)"
      ],
      "outputs": [
        {
          "output_type": "stream",
          "name": "stdout",
          "text": [
            "Found existing cluster, use it.\n",
            "\n",
            "Running\n"
          ]
        }
      ],
      "execution_count": 5,
      "metadata": {
        "collapsed": true,
        "jupyter": {
          "source_hidden": false,
          "outputs_hidden": false
        },
        "nteract": {
          "transient": {
            "deleting": false
          }
        },
        "gather": {
          "logged": 1622124245570
        }
      }
    },
    {
      "cell_type": "code",
      "source": [
        "import logging\r\n",
        "from azureml.train.automl import AutoMLConfig\r\n",
        "from azureml.widgets import RunDetails\r\n",
        "\r\n",
        "dataset = Dataset.Tabular.from_delimited_files(csv_path)\r\n",
        "training_data, validation_data = dataset.random_split(percentage=0.8, seed=223)\r\n",
        "\r\n",
        "\r\n",
        "# Get an experiment object from Azure Machine Learning\r\n",
        "experiment = Experiment(workspace=ws, name=\"diabetes-automl-onnx\")\r\n",
        "\r\n",
        "# Create a run object in the experiment\r\n",
        "run =  experiment.start_logging()\r\n",
        "\r\n",
        "\r\n",
        "automl_settings = {\r\n",
        "    \"n_cross_validations\": 3,\r\n",
        "    \"primary_metric\": 'AUC_weighted',\r\n",
        "    \"experiment_timeout_minutes\": 17,\r\n",
        "    \"experiment_timeout_hours\": 0.25, # This is a time limit for testing purposes, remove it for real use cases, this will drastically limit ability to find the best model possible\r\n",
        "    \"verbosity\": logging.INFO,\r\n",
        "    \"enable_stack_ensemble\": False\r\n",
        "}\r\n",
        "\r\n",
        "automl_config = AutoMLConfig(task = 'classification',\r\n",
        "                             debug_log = 'automl_errors.log',\r\n",
        "                             compute_target=compute_target,\r\n",
        "                             enable_onnx_compatible_models=True, # must be explicitly declared for onnx\r\n",
        "                             blocked_models = ['KNN','LinearSVM'], # example of skipping a few algorithms\r\n",
        "                             training_data = training_data,\r\n",
        "                             label_column_name = 'Diabetic', # the output label \r\n",
        "                             **automl_settings\r\n",
        "                            )\r\n",
        "\r\n",
        "local_run = experiment.submit(automl_config, show_output = True)\r\n",
        "\r\n",
        "RunDetails(local_run).show()"
      ],
      "outputs": [
        {
          "output_type": "stream",
          "name": "stdout",
          "text": [
            "Submitting remote run.\n",
            "No run_configuration provided, running on computeinstancers with default configuration\n",
            "Running on remote compute: computeinstancers\n"
          ]
        },
        {
          "output_type": "display_data",
          "data": {
            "text/plain": "<IPython.core.display.HTML object>",
            "text/html": "<table style=\"width:100%\"><tr><th>Experiment</th><th>Id</th><th>Type</th><th>Status</th><th>Details Page</th><th>Docs Page</th></tr><tr><td>diabetes-automl-onnx</td><td>AutoML_b03ac74a-f719-41c6-9661-fbd785482b0c</td><td>automl</td><td>NotStarted</td><td><a href=\"https://ml.azure.com/runs/AutoML_b03ac74a-f719-41c6-9661-fbd785482b0c?wsid=/subscriptions/61489282-e75d-4996-b2ef-3126311e55e6/resourcegroups/ramsoft/workspaces/workspacers&amp;tid=72f988bf-86f1-41af-91ab-2d7cd011db47\" target=\"_blank\" rel=\"noopener\">Link to Azure Machine Learning studio</a></td><td><a href=\"https://docs.microsoft.com/en-us/python/api/overview/azure/ml/intro?view=azure-ml-py\" target=\"_blank\" rel=\"noopener\">Link to Documentation</a></td></tr></table>"
          },
          "metadata": {}
        },
        {
          "output_type": "stream",
          "name": "stdout",
          "text": [
            "\n",
            "Current status: FeaturesGeneration. Generating features for the dataset.\n",
            "Current status: ModelSelection. Beginning model selection.\n",
            "\n",
            "****************************************************************************************************\n",
            "DATA GUARDRAILS: \n",
            "\n",
            "TYPE:         Class balancing detection\n",
            "STATUS:       PASSED\n",
            "DESCRIPTION:  Your inputs were analyzed, and all classes are balanced in your training data.\n",
            "              Learn more about imbalanced data: https://aka.ms/AutomatedMLImbalancedData\n",
            "\n",
            "****************************************************************************************************\n",
            "\n",
            "TYPE:         Missing feature values imputation\n",
            "STATUS:       PASSED\n",
            "DESCRIPTION:  No feature missing values were detected in the training data.\n",
            "              Learn more about missing value imputation: https://aka.ms/AutomatedMLFeaturization\n",
            "\n",
            "****************************************************************************************************\n",
            "\n",
            "TYPE:         High cardinality feature detection\n",
            "STATUS:       PASSED\n",
            "DESCRIPTION:  Your inputs were analyzed, and no high cardinality features were detected.\n",
            "              Learn more about high cardinality feature handling: https://aka.ms/AutomatedMLFeaturization\n",
            "\n",
            "****************************************************************************************************\n",
            "\n",
            "****************************************************************************************************\n",
            "ITERATION: The iteration being evaluated.\n",
            "PIPELINE: A summary description of the pipeline being evaluated.\n",
            "DURATION: Time taken for the current iteration.\n",
            "METRIC: The result of computing score on the fitted pipeline.\n",
            "BEST: The best observed score thus far.\n",
            "****************************************************************************************************\n",
            "\n",
            " ITERATION   PIPELINE                                       DURATION      METRIC      BEST\n",
            "         0   MaxAbsScaler LightGBM                          0:00:49       0.9894    0.9894\n",
            "         1   MaxAbsScaler XGBoostClassifier                 0:00:47       0.9884    0.9894\n",
            "         2   MaxAbsScaler RandomForest                      0:00:52       0.9681    0.9894\n",
            "         3   MaxAbsScaler RandomForest                      0:00:48       0.9737    0.9894\n",
            "         4   MaxAbsScaler RandomForest                      0:00:46       0.9574    0.9894\n",
            "         5   MaxAbsScaler ExtremeRandomTrees                0:00:45       0.9386    0.9894\n",
            "         6   MaxAbsScaler ExtremeRandomTrees                0:00:45       0.9456    0.9894\n",
            "         7   MaxAbsScaler ExtremeRandomTrees                0:00:49       0.9424    0.9894\n",
            "         8   MaxAbsScaler RandomForest                      0:02:26       0.9630    0.9894\n",
            "         9   MaxAbsScaler ExtremeRandomTrees                0:00:47       0.9388    0.9894\n",
            "        10   MaxAbsScaler RandomForest                      0:00:48       0.9487    0.9894\n",
            "        11   MaxAbsScaler RandomForest                      0:02:26       0.9422    0.9894\n",
            "        12   MaxAbsScaler RandomForest                      0:00:45       0.9524    0.9894\n",
            "        13   StandardScalerWrapper XGBoostClassifier        0:00:40       0.9715    0.9894\n",
            "ERROR: {\n",
            "    \"additional_properties\": {},\n",
            "    \"error\": {\n",
            "        \"additional_properties\": {\n",
            "            \"debugInfo\": null\n",
            "        },\n",
            "        \"code\": \"UserError\",\n",
            "        \"severity\": null,\n",
            "        \"message\": \"Experiment timeout reached, please consider increasing your experiment timeout.\",\n",
            "        \"message_format\": \"Experiment timeout reached, please consider increasing your experiment timeout.\",\n",
            "        \"message_parameters\": {},\n",
            "        \"reference_code\": null,\n",
            "        \"details_uri\": null,\n",
            "        \"target\": null,\n",
            "        \"details\": [],\n",
            "        \"inner_error\": {\n",
            "            \"additional_properties\": {},\n",
            "            \"code\": \"ResourceExhausted\",\n",
            "            \"inner_error\": {\n",
            "                \"additional_properties\": {},\n",
            "                \"code\": \"Timeout\",\n",
            "                \"inner_error\": {\n",
            "                    \"additional_properties\": {},\n",
            "                    \"code\": \"ExperimentTimeoutForIterations\",\n",
            "                    \"inner_error\": null\n",
            "                }\n",
            "            }\n",
            "        },\n",
            "        \"additional_info\": null\n",
            "    },\n",
            "    \"correlation\": null,\n",
            "    \"environment\": null,\n",
            "    \"location\": null,\n",
            "    \"time\": {},\n",
            "    \"component_name\": null\n",
            "}\n",
            "        14    VotingEnsemble                                0:00:56       0.9892    0.9894\n"
          ]
        },
        {
          "output_type": "display_data",
          "data": {
            "text/plain": "_AutoMLWidget(widget_settings={'childWidgetDisplay': 'popup', 'send_telemetry': False, 'log_level': 'INFO', 's…",
            "application/vnd.jupyter.widget-view+json": {
              "version_major": 2,
              "version_minor": 0,
              "model_id": "b9ab6be81f5843c486dafcbc633c400c"
            }
          },
          "metadata": {}
        },
        {
          "output_type": "display_data",
          "data": {
            "application/aml.mini.widget.v1": "{\"status\": \"Completed\", \"workbench_run_details_uri\": \"https://ml.azure.com/runs/AutoML_b03ac74a-f719-41c6-9661-fbd785482b0c?wsid=/subscriptions/61489282-e75d-4996-b2ef-3126311e55e6/resourcegroups/ramsoft/workspaces/workspacers&tid=72f988bf-86f1-41af-91ab-2d7cd011db47\", \"run_id\": \"AutoML_b03ac74a-f719-41c6-9661-fbd785482b0c\", \"run_properties\": {\"run_id\": \"AutoML_b03ac74a-f719-41c6-9661-fbd785482b0c\", \"created_utc\": \"2021-05-27T14:04:35.949325Z\", \"properties\": {\"num_iterations\": \"1000\", \"training_type\": \"TrainFull\", \"acquisition_function\": \"EI\", \"primary_metric\": \"AUC_weighted\", \"train_split\": \"0\", \"acquisition_parameter\": \"0\", \"num_cross_validation\": \"3\", \"target\": \"computeinstancers\", \"AMLSettingsJsonString\": \"{\\\"path\\\":null,\\\"name\\\":\\\"diabetes-automl-onnx\\\",\\\"subscription_id\\\":\\\"61489282-e75d-4996-b2ef-3126311e55e6\\\",\\\"resource_group\\\":\\\"ramsoft\\\",\\\"workspace_name\\\":\\\"workspacers\\\",\\\"region\\\":\\\"westus\\\",\\\"compute_target\\\":\\\"computeinstancers\\\",\\\"spark_service\\\":null,\\\"azure_service\\\":\\\"remote\\\",\\\"many_models\\\":false,\\\"pipeline_fetch_max_batch_size\\\":1,\\\"enable_batch_run\\\":false,\\\"enable_run_restructure\\\":false,\\\"start_auxiliary_runs_before_parent_complete\\\":false,\\\"enable_code_generation\\\":false,\\\"iterations\\\":1000,\\\"primary_metric\\\":\\\"AUC_weighted\\\",\\\"task_type\\\":\\\"classification\\\",\\\"data_script\\\":null,\\\"test_size\\\":0.0,\\\"validation_size\\\":0.0,\\\"n_cross_validations\\\":3,\\\"y_min\\\":null,\\\"y_max\\\":null,\\\"num_classes\\\":null,\\\"featurization\\\":\\\"auto\\\",\\\"_ignore_package_version_incompatibilities\\\":false,\\\"is_timeseries\\\":false,\\\"max_cores_per_iteration\\\":1,\\\"max_concurrent_iterations\\\":1,\\\"iteration_timeout_minutes\\\":null,\\\"mem_in_mb\\\":null,\\\"enforce_time_on_windows\\\":false,\\\"experiment_timeout_minutes\\\":17,\\\"experiment_exit_score\\\":null,\\\"whitelist_models\\\":null,\\\"blacklist_algos\\\":[\\\"KNN\\\",\\\"LinearSVM\\\",\\\"TensorFlowLinearClassifier\\\",\\\"TensorFlowDNN\\\"],\\\"supported_models\\\":[\\\"BernoulliNaiveBayes\\\",\\\"TensorFlowDNN\\\",\\\"AveragedPerceptronClassifier\\\",\\\"GradientBoosting\\\",\\\"SVM\\\",\\\"LinearSVM\\\",\\\"KNN\\\",\\\"DecisionTree\\\",\\\"LogisticRegression\\\",\\\"LightGBM\\\",\\\"TensorFlowLinearClassifier\\\",\\\"ExtremeRandomTrees\\\",\\\"XGBoostClassifier\\\",\\\"RandomForest\\\",\\\"MultinomialNaiveBayes\\\",\\\"SGD\\\"],\\\"private_models\\\":[],\\\"auto_blacklist\\\":true,\\\"blacklist_samples_reached\\\":false,\\\"exclude_nan_labels\\\":true,\\\"verbosity\\\":20,\\\"_debug_log\\\":\\\"azureml_automl.log\\\",\\\"show_warnings\\\":false,\\\"model_explainability\\\":true,\\\"service_url\\\":null,\\\"sdk_url\\\":null,\\\"sdk_packages\\\":null,\\\"enable_onnx_compatible_models\\\":true,\\\"enable_split_onnx_featurizer_estimator_models\\\":false,\\\"vm_type\\\":\\\"STANDARD_DS12_V2\\\",\\\"telemetry_verbosity\\\":20,\\\"send_telemetry\\\":true,\\\"enable_dnn\\\":false,\\\"scenario\\\":\\\"SDK-1.13.0\\\",\\\"environment_label\\\":null,\\\"save_mlflow\\\":false,\\\"force_text_dnn\\\":false,\\\"enable_feature_sweeping\\\":false,\\\"enable_early_stopping\\\":false,\\\"early_stopping_n_iters\\\":10,\\\"metrics\\\":null,\\\"enable_metric_confidence\\\":false,\\\"enable_ensembling\\\":true,\\\"enable_stack_ensembling\\\":false,\\\"ensemble_iterations\\\":15,\\\"enable_tf\\\":false,\\\"enable_subsampling\\\":null,\\\"subsample_seed\\\":null,\\\"enable_nimbusml\\\":false,\\\"enable_streaming\\\":false,\\\"force_streaming\\\":false,\\\"track_child_runs\\\":true,\\\"allowed_private_models\\\":[],\\\"label_column_name\\\":\\\"Diabetic\\\",\\\"weight_column_name\\\":null,\\\"cv_split_column_names\\\":null,\\\"enable_local_managed\\\":false,\\\"_local_managed_run_id\\\":null,\\\"cost_mode\\\":1,\\\"lag_length\\\":0,\\\"metric_operation\\\":\\\"maximize\\\",\\\"preprocess\\\":true}\", \"DataPrepJsonString\": \"{\\\\\\\"training_data\\\\\\\": {\\\\\\\"datasetId\\\\\\\": \\\\\\\"81a5a1bd-5084-4915-bed7-7341b6c21bdd\\\\\\\"}, \\\\\\\"datasets\\\\\\\": 0}\", \"EnableSubsampling\": null, \"runTemplate\": \"AutoML\", \"azureml.runsource\": \"automl\", \"display_task_type\": \"classification\", \"dependencies_versions\": \"{\\\"azureml-widgets\\\": \\\"1.28.0\\\", \\\"azureml-train\\\": \\\"1.29.0\\\", \\\"azureml-train-restclients-hyperdrive\\\": \\\"1.29.0\\\", \\\"azureml-train-core\\\": \\\"1.29.0\\\", \\\"azureml-train-automl\\\": \\\"1.28.0\\\", \\\"azureml-train-automl-runtime\\\": \\\"1.28.0\\\", \\\"azureml-train-automl-client\\\": \\\"1.29.0\\\", \\\"azureml-tensorboard\\\": \\\"1.28.0\\\", \\\"azureml-telemetry\\\": \\\"1.28.0\\\", \\\"azureml-sdk\\\": \\\"1.29.0\\\", \\\"azureml-samples\\\": \\\"0+unknown\\\", \\\"azureml-pipeline\\\": \\\"1.29.0\\\", \\\"azureml-pipeline-steps\\\": \\\"1.29.0\\\", \\\"azureml-pipeline-core\\\": \\\"1.29.0\\\", \\\"azureml-opendatasets\\\": \\\"1.28.0\\\", \\\"azureml-monitoring\\\": \\\"0.1.0a21\\\", \\\"azureml-model-management-sdk\\\": \\\"1.0.1b6.post1\\\", \\\"azureml-mlflow\\\": \\\"1.28.0\\\", \\\"azureml-interpret\\\": \\\"1.28.0\\\", \\\"azureml-explain-model\\\": \\\"1.28.0\\\", \\\"azureml-defaults\\\": \\\"1.28.0\\\", \\\"azureml-dataset-runtime\\\": \\\"1.29.0\\\", \\\"azureml-dataprep\\\": \\\"2.15.0\\\", \\\"azureml-dataprep-rslex\\\": \\\"1.13.0\\\", \\\"azureml-dataprep-native\\\": \\\"33.0.0\\\", \\\"azureml-datadrift\\\": \\\"1.28.0\\\", \\\"azureml-core\\\": \\\"1.29.0\\\", \\\"azureml-contrib-services\\\": \\\"1.28.0\\\", \\\"azureml-contrib-server\\\": \\\"1.28.0\\\", \\\"azureml-contrib-reinforcementlearning\\\": \\\"1.28.0\\\", \\\"azureml-contrib-pipeline-steps\\\": \\\"1.28.0\\\", \\\"azureml-contrib-notebook\\\": \\\"1.28.0\\\", \\\"azureml-contrib-gbdt\\\": \\\"1.28.0\\\", \\\"azureml-contrib-fairness\\\": \\\"1.28.0\\\", \\\"azureml-contrib-dataset\\\": \\\"1.28.0\\\", \\\"azureml-cli-common\\\": \\\"1.28.0\\\", \\\"azureml-automl-runtime\\\": \\\"1.28.0.post2\\\", \\\"azureml-automl-dnn-nlp\\\": \\\"1.28.0\\\", \\\"azureml-automl-core\\\": \\\"1.29.0\\\", \\\"azureml-accel-models\\\": \\\"1.28.0\\\"}\", \"_aml_system_scenario_identification\": \"Remote.Parent\", \"ClientType\": \"SDK\", \"environment_cpu_name\": \"AzureML-AutoML\", \"environment_cpu_label\": \"prod\", \"environment_gpu_name\": \"AzureML-AutoML-GPU\", \"environment_gpu_label\": \"prod\", \"root_attribution\": \"automl\", \"attribution\": \"AutoML\", \"Orchestrator\": \"AutoML\", \"CancelUri\": \"https://westus.api.azureml.ms/jasmine/v1.0/subscriptions/61489282-e75d-4996-b2ef-3126311e55e6/resourceGroups/ramsoft/providers/Microsoft.MachineLearningServices/workspaces/workspacers/experimentids/3dc8fd72-4e17-4966-b0d5-d75b76a8284d/cancel/AutoML_b03ac74a-f719-41c6-9661-fbd785482b0c\", \"ClientSdkVersion\": \"1.28.0\", \"snapshotId\": \"00000000-0000-0000-0000-000000000000\", \"SetupRunId\": \"AutoML_b03ac74a-f719-41c6-9661-fbd785482b0c_setup\", \"SetupRunContainerId\": \"dcid.AutoML_b03ac74a-f719-41c6-9661-fbd785482b0c_setup\", \"FeaturizationRunJsonPath\": \"featurizer_container.json\", \"FeaturizationRunId\": \"AutoML_b03ac74a-f719-41c6-9661-fbd785482b0c_featurize\", \"ProblemInfoJsonString\": \"{\\\"dataset_num_categorical\\\": 0, \\\"is_sparse\\\": true, \\\"subsampling\\\": false, \\\"has_extra_col\\\": true, \\\"dataset_classes\\\": 2, \\\"dataset_features\\\": 23, \\\"dataset_samples\\\": 8039, \\\"single_frequency_class_detected\\\": false}\", \"ModelExplainRunId\": \"AutoML_b03ac74a-f719-41c6-9661-fbd785482b0c_ModelExplain\", \"azureml.git.repository_uri\": \"git@github.com:MustAl-Du/AzureMachineLearning.git\", \"mlflow.source.git.repoURL\": \"git@github.com:MustAl-Du/AzureMachineLearning.git\", \"azureml.git.branch\": \"main\", \"mlflow.source.git.branch\": \"main\", \"azureml.git.commit\": \"accdb437652449c361d4ed1d622c798b3955a5a8\", \"mlflow.source.git.commit\": \"accdb437652449c361d4ed1d622c798b3955a5a8\", \"azureml.git.dirty\": \"True\"}, \"tags\": {\"model_explain_run\": \"best_run\", \"_aml_system_azureml.automlComponent\": \"AutoML\", \"pipeline_id\": \"\", \"score\": \"\", \"predicted_cost\": \"\", \"fit_time\": \"\", \"training_percent\": \"\", \"iteration\": \"\", \"run_preprocessor\": \"\", \"run_algorithm\": \"\", \"automl_best_child_run_id\": \"AutoML_b03ac74a-f719-41c6-9661-fbd785482b0c_0\", \"model_explain_best_run_child_id\": \"AutoML_b03ac74a-f719-41c6-9661-fbd785482b0c_0\"}, \"end_time_utc\": \"2021-05-27T14:26:04.030991Z\", \"status\": \"Completed\", \"log_files\": {}, \"log_groups\": [], \"run_duration\": \"0:21:28\", \"run_number\": \"1622124275\", \"run_queued_details\": {\"status\": \"Completed\", \"details\": null}}, \"child_runs\": [{\"run_id\": \"AutoML_b03ac74a-f719-41c6-9661-fbd785482b0c_0\", \"run_number\": 1622124434, \"metric\": null, \"status\": \"Completed\", \"run_type\": \"azureml.scriptrun\", \"training_percent\": \"100\", \"start_time\": \"2021-05-27T14:07:29.256799Z\", \"end_time\": \"2021-05-27T14:08:18.456219Z\", \"created_time\": \"2021-05-27T14:07:14.791173Z\", \"created_time_dt\": \"2021-05-27T14:07:14.791173Z\", \"duration\": \"0:01:03\", \"iteration\": \"0\", \"goal\": \"AUC_weighted_max\", \"run_name\": \"MaxAbsScaler, LightGBM\", \"run_properties\": \"copy=True\", \"primary_metric\": 0.98943726, \"best_metric\": 0.98943726}, {\"run_id\": \"AutoML_b03ac74a-f719-41c6-9661-fbd785482b0c_1\", \"run_number\": 1622124499, \"metric\": null, \"status\": \"Completed\", \"run_type\": \"azureml.scriptrun\", \"training_percent\": \"100\", \"start_time\": \"2021-05-27T14:08:36.409878Z\", \"end_time\": \"2021-05-27T14:09:23.492148Z\", \"created_time\": \"2021-05-27T14:08:19.499957Z\", \"created_time_dt\": \"2021-05-27T14:08:19.499957Z\", \"duration\": \"0:01:03\", \"iteration\": \"1\", \"goal\": \"AUC_weighted_max\", \"run_name\": \"MaxAbsScaler, XGBoostClassifier\", \"run_properties\": \"copy=True\", \"primary_metric\": 0.98840706, \"best_metric\": 0.98943726}, {\"run_id\": \"AutoML_b03ac74a-f719-41c6-9661-fbd785482b0c_2\", \"run_number\": 1622124565, \"metric\": null, \"status\": \"Completed\", \"run_type\": \"azureml.scriptrun\", \"training_percent\": \"100\", \"start_time\": \"2021-05-27T14:09:38.840704Z\", \"end_time\": \"2021-05-27T14:10:30.579521Z\", \"created_time\": \"2021-05-27T14:09:25.902655Z\", \"created_time_dt\": \"2021-05-27T14:09:25.902655Z\", \"duration\": \"0:01:04\", \"iteration\": \"2\", \"goal\": \"AUC_weighted_max\", \"run_name\": \"MaxAbsScaler, RandomForest\", \"run_properties\": \"copy=True\", \"primary_metric\": 0.96810374, \"best_metric\": 0.98943726}, {\"run_id\": \"AutoML_b03ac74a-f719-41c6-9661-fbd785482b0c_3\", \"run_number\": 1622124632, \"metric\": null, \"status\": \"Completed\", \"run_type\": \"azureml.scriptrun\", \"training_percent\": \"100\", \"start_time\": \"2021-05-27T14:10:48.980077Z\", \"end_time\": \"2021-05-27T14:11:37.436531Z\", \"created_time\": \"2021-05-27T14:10:32.32893Z\", \"created_time_dt\": \"2021-05-27T14:10:32.32893Z\", \"duration\": \"0:01:05\", \"iteration\": \"3\", \"goal\": \"AUC_weighted_max\", \"run_name\": \"MaxAbsScaler, RandomForest\", \"run_properties\": \"copy=True\", \"primary_metric\": 0.97365148, \"best_metric\": 0.98943726}, {\"run_id\": \"AutoML_b03ac74a-f719-41c6-9661-fbd785482b0c_4\", \"run_number\": 1622124699, \"metric\": null, \"status\": \"Completed\", \"run_type\": \"azureml.scriptrun\", \"training_percent\": \"100\", \"start_time\": \"2021-05-27T14:11:51.462311Z\", \"end_time\": \"2021-05-27T14:12:37.045499Z\", \"created_time\": \"2021-05-27T14:11:39.161814Z\", \"created_time_dt\": \"2021-05-27T14:11:39.161814Z\", \"duration\": \"0:00:57\", \"iteration\": \"4\", \"goal\": \"AUC_weighted_max\", \"run_name\": \"MaxAbsScaler, RandomForest\", \"run_properties\": \"copy=True\", \"primary_metric\": 0.95736714, \"best_metric\": 0.98943726}, {\"run_id\": \"AutoML_b03ac74a-f719-41c6-9661-fbd785482b0c_5\", \"run_number\": 1622124759, \"metric\": null, \"status\": \"Completed\", \"run_type\": \"azureml.scriptrun\", \"training_percent\": \"100\", \"start_time\": \"2021-05-27T14:12:51.578333Z\", \"end_time\": \"2021-05-27T14:13:37.025286Z\", \"created_time\": \"2021-05-27T14:12:39.014054Z\", \"created_time_dt\": \"2021-05-27T14:12:39.014054Z\", \"duration\": \"0:00:58\", \"iteration\": \"5\", \"goal\": \"AUC_weighted_max\", \"run_name\": \"MaxAbsScaler, ExtremeRandomTrees\", \"run_properties\": \"copy=True\", \"primary_metric\": 0.93864628, \"best_metric\": 0.98943726}, {\"run_id\": \"AutoML_b03ac74a-f719-41c6-9661-fbd785482b0c_6\", \"run_number\": 1622124818, \"metric\": null, \"status\": \"Completed\", \"run_type\": \"azureml.scriptrun\", \"training_percent\": \"100\", \"start_time\": \"2021-05-27T14:13:50.518769Z\", \"end_time\": \"2021-05-27T14:14:35.876641Z\", \"created_time\": \"2021-05-27T14:13:38.73374Z\", \"created_time_dt\": \"2021-05-27T14:13:38.73374Z\", \"duration\": \"0:00:57\", \"iteration\": \"6\", \"goal\": \"AUC_weighted_max\", \"run_name\": \"MaxAbsScaler, ExtremeRandomTrees\", \"run_properties\": \"copy=True\", \"primary_metric\": 0.94564561, \"best_metric\": 0.98943726}, {\"run_id\": \"AutoML_b03ac74a-f719-41c6-9661-fbd785482b0c_7\", \"run_number\": 1622124878, \"metric\": null, \"status\": \"Completed\", \"run_type\": \"azureml.scriptrun\", \"training_percent\": \"100\", \"start_time\": \"2021-05-27T14:14:53.079577Z\", \"end_time\": \"2021-05-27T14:15:42.233607Z\", \"created_time\": \"2021-05-27T14:14:38.441985Z\", \"created_time_dt\": \"2021-05-27T14:14:38.441985Z\", \"duration\": \"0:01:03\", \"iteration\": \"7\", \"goal\": \"AUC_weighted_max\", \"run_name\": \"MaxAbsScaler, ExtremeRandomTrees\", \"run_properties\": \"copy=True\", \"primary_metric\": 0.94244677, \"best_metric\": 0.98943726}, {\"run_id\": \"AutoML_b03ac74a-f719-41c6-9661-fbd785482b0c_8\", \"run_number\": 1622124943, \"metric\": null, \"status\": \"Completed\", \"run_type\": \"azureml.scriptrun\", \"training_percent\": \"100\", \"start_time\": \"2021-05-27T14:15:52.138645Z\", \"end_time\": \"2021-05-27T14:18:18.612226Z\", \"created_time\": \"2021-05-27T14:15:43.925344Z\", \"created_time_dt\": \"2021-05-27T14:15:43.925344Z\", \"duration\": \"0:02:34\", \"iteration\": \"8\", \"goal\": \"AUC_weighted_max\", \"run_name\": \"MaxAbsScaler, RandomForest\", \"run_properties\": \"copy=True\", \"primary_metric\": 0.96296612, \"best_metric\": 0.98943726}, {\"run_id\": \"AutoML_b03ac74a-f719-41c6-9661-fbd785482b0c_9\", \"run_number\": 1622125100, \"metric\": null, \"status\": \"Completed\", \"run_type\": \"azureml.scriptrun\", \"training_percent\": \"100\", \"start_time\": \"2021-05-27T14:18:28.737967Z\", \"end_time\": \"2021-05-27T14:19:15.845917Z\", \"created_time\": \"2021-05-27T14:18:20.394184Z\", \"created_time_dt\": \"2021-05-27T14:18:20.394184Z\", \"duration\": \"0:00:55\", \"iteration\": \"9\", \"goal\": \"AUC_weighted_max\", \"run_name\": \"MaxAbsScaler, ExtremeRandomTrees\", \"run_properties\": \"copy=True\", \"primary_metric\": 0.93880345, \"best_metric\": 0.98943726}, {\"run_id\": \"AutoML_b03ac74a-f719-41c6-9661-fbd785482b0c_10\", \"run_number\": 1622125157, \"metric\": null, \"status\": \"Completed\", \"run_type\": \"azureml.scriptrun\", \"training_percent\": \"100\", \"start_time\": \"2021-05-27T14:19:29.668994Z\", \"end_time\": \"2021-05-27T14:20:17.910291Z\", \"created_time\": \"2021-05-27T14:19:17.639668Z\", \"created_time_dt\": \"2021-05-27T14:19:17.639668Z\", \"duration\": \"0:01:00\", \"iteration\": \"10\", \"goal\": \"AUC_weighted_max\", \"run_name\": \"MaxAbsScaler, RandomForest\", \"run_properties\": \"copy=True\", \"primary_metric\": 0.94865608, \"best_metric\": 0.98943726}, {\"run_id\": \"AutoML_b03ac74a-f719-41c6-9661-fbd785482b0c_11\", \"run_number\": 1622125219, \"metric\": null, \"status\": \"Completed\", \"run_type\": \"azureml.scriptrun\", \"training_percent\": \"100\", \"start_time\": \"2021-05-27T14:20:27.347818Z\", \"end_time\": \"2021-05-27T14:22:53.811207Z\", \"created_time\": \"2021-05-27T14:20:19.521662Z\", \"created_time_dt\": \"2021-05-27T14:20:19.521662Z\", \"duration\": \"0:02:34\", \"iteration\": \"11\", \"goal\": \"AUC_weighted_max\", \"run_name\": \"MaxAbsScaler, RandomForest\", \"run_properties\": \"copy=True\", \"primary_metric\": 0.94221558, \"best_metric\": 0.98943726}, {\"run_id\": \"AutoML_b03ac74a-f719-41c6-9661-fbd785482b0c_12\", \"run_number\": 1622125375, \"metric\": null, \"status\": \"Completed\", \"run_type\": \"azureml.scriptrun\", \"training_percent\": \"100\", \"start_time\": \"2021-05-27T14:23:06.416313Z\", \"end_time\": \"2021-05-27T14:23:51.345049Z\", \"created_time\": \"2021-05-27T14:22:55.736291Z\", \"created_time_dt\": \"2021-05-27T14:22:55.736291Z\", \"duration\": \"0:00:55\", \"iteration\": \"12\", \"goal\": \"AUC_weighted_max\", \"run_name\": \"MaxAbsScaler, RandomForest\", \"run_properties\": \"copy=True\", \"primary_metric\": 0.95235299, \"best_metric\": 0.98943726}, {\"run_id\": \"AutoML_b03ac74a-f719-41c6-9661-fbd785482b0c_13\", \"run_number\": 1622125433, \"metric\": null, \"status\": \"Canceled\", \"run_type\": \"azureml.scriptrun\", \"training_percent\": \"100\", \"start_time\": \"2021-05-27T14:24:08.474168Z\", \"end_time\": \"2021-05-27T14:24:48.91821Z\", \"created_time\": \"2021-05-27T14:23:53.431529Z\", \"created_time_dt\": \"2021-05-27T14:23:53.431529Z\", \"duration\": \"0:00:55\", \"iteration\": \"13\", \"goal\": \"AUC_weighted_max\", \"run_name\": \"StandardScalerWrapper, XGBoostClassifier\", \"run_properties\": \"\\n    copy=True,\\n    with_mean=False,\\n    with_std=False\\n\", \"primary_metric\": 0.97150416, \"best_metric\": 0.98943726}, {\"run_id\": \"AutoML_b03ac74a-f719-41c6-9661-fbd785482b0c_14\", \"run_number\": 1622125489, \"metric\": null, \"status\": \"Completed\", \"run_type\": \"azureml.scriptrun\", \"training_percent\": \"100\", \"start_time\": \"2021-05-27T14:25:06.421592Z\", \"end_time\": \"2021-05-27T14:26:02.33255Z\", \"created_time\": \"2021-05-27T14:24:49.712837Z\", \"created_time_dt\": \"2021-05-27T14:24:49.712837Z\", \"duration\": \"0:01:12\", \"iteration\": \"14\", \"goal\": \"AUC_weighted_max\", \"run_name\": \"VotingEnsemble\", \"run_properties\": \"\\n    estimators=[('0', Pipeline(memory=None,\\n             steps=[('maxabsscaler', MaxAbsScaler(copy=True\", \"primary_metric\": 0.98923348, \"best_metric\": 0.98943726}], \"children_metrics\": {\"categories\": [0], \"series\": {\"precision_score_micro\": [{\"categories\": [\"0\", \"1\", \"2\", \"3\", \"4\", \"5\", \"6\", \"7\", \"8\", \"9\", \"10\", \"11\", \"12\", \"13\", \"14\"], \"mode\": \"markers\", \"name\": \"precision_score_micro\", \"stepped\": false, \"type\": \"scatter\", \"data\": [0.9489987538975523, 0.9461382430884028, 0.9072031128419121, 0.9128007313191415, 0.8927744164582091, 0.8761039891992074, 0.8839409243443105, 0.8739904434527622, 0.7117757609860366, 0.8293315988181527, 0.8594336547943374, 0.8516000623979766, 0.8726222378217163, 0.9161596831074194, 0.9480037754489962]}, {\"categories\": [\"0\", \"1\", \"2\", \"3\", \"4\", \"5\", \"6\", \"7\", \"8\", \"9\", \"10\", \"11\", \"12\", \"13\", \"14\"], \"mode\": \"lines\", \"name\": \"precision_score_micro_max\", \"stepped\": true, \"type\": \"scatter\", \"data\": [0.9489987538975523, 0.9489987538975523, 0.9489987538975523, 0.9489987538975523, 0.9489987538975523, 0.9489987538975523, 0.9489987538975523, 0.9489987538975523, 0.9489987538975523, 0.9489987538975523, 0.9489987538975523, 0.9489987538975523, 0.9489987538975523, 0.9489987538975523, 0.9489987538975523]}], \"average_precision_score_weighted\": [{\"categories\": [\"0\", \"1\", \"2\", \"3\", \"4\", \"5\", \"6\", \"7\", \"8\", \"9\", \"10\", \"11\", \"12\", \"13\", \"14\"], \"mode\": \"markers\", \"name\": \"average_precision_score_weighted\", \"stepped\": false, \"type\": \"scatter\", \"data\": [0.9898748329460215, 0.9888370888397634, 0.9691159058143843, 0.9744705730891995, 0.9590595025421708, 0.9387984341376794, 0.9469070761817098, 0.943272278379303, 0.963471357340376, 0.9403856834828096, 0.9518272350872484, 0.9460790398497578, 0.9544984921808829, 0.9719369846745002, 0.9895892754523063]}, {\"categories\": [\"0\", \"1\", \"2\", \"3\", \"4\", \"5\", \"6\", \"7\", \"8\", \"9\", \"10\", \"11\", \"12\", \"13\", \"14\"], \"mode\": \"lines\", \"name\": \"average_precision_score_weighted_max\", \"stepped\": true, \"type\": \"scatter\", \"data\": [0.9898748329460215, 0.9898748329460215, 0.9898748329460215, 0.9898748329460215, 0.9898748329460215, 0.9898748329460215, 0.9898748329460215, 0.9898748329460215, 0.9898748329460215, 0.9898748329460215, 0.9898748329460215, 0.9898748329460215, 0.9898748329460215, 0.9898748329460215, 0.9898748329460215]}], \"AUC_micro\": [{\"categories\": [\"0\", \"1\", \"2\", \"3\", \"4\", \"5\", \"6\", \"7\", \"8\", \"9\", \"10\", \"11\", \"12\", \"13\", \"14\"], \"mode\": \"markers\", \"name\": \"AUC_micro\", \"stepped\": false, \"type\": \"scatter\", \"data\": [0.9906285724240073, 0.9896432444122505, 0.970254026891365, 0.9724861160973952, 0.955301914572282, 0.9426755991312831, 0.9504952723733003, 0.9478531636804074, 0.8799067100947565, 0.925830019113532, 0.9425378969554946, 0.9362415408827829, 0.9444550093739008, 0.9741589928935005, 0.9904377707368669]}, {\"categories\": [\"0\", \"1\", \"2\", \"3\", \"4\", \"5\", \"6\", \"7\", \"8\", \"9\", \"10\", \"11\", \"12\", \"13\", \"14\"], \"mode\": \"lines\", \"name\": \"AUC_micro_max\", \"stepped\": true, \"type\": \"scatter\", \"data\": [0.9906285724240073, 0.9906285724240073, 0.9906285724240073, 0.9906285724240073, 0.9906285724240073, 0.9906285724240073, 0.9906285724240073, 0.9906285724240073, 0.9906285724240073, 0.9906285724240073, 0.9906285724240073, 0.9906285724240073, 0.9906285724240073, 0.9906285724240073, 0.9906285724240073]}], \"weighted_accuracy\": [{\"categories\": [\"0\", \"1\", \"2\", \"3\", \"4\", \"5\", \"6\", \"7\", \"8\", \"9\", \"10\", \"11\", \"12\", \"13\", \"14\"], \"mode\": \"markers\", \"name\": \"weighted_accuracy\", \"stepped\": false, \"type\": \"scatter\", \"data\": [0.9552285153782735, 0.9524001992955634, 0.9258827450883782, 0.9116375295428752, 0.9194989040533841, 0.8757540071012239, 0.8936712293850197, 0.8935216345589118, 0.8260772996833495, 0.8085298104177389, 0.8499066363875315, 0.8444402474400444, 0.8639815027491607, 0.9277026901810385, 0.9542807941894985]}, {\"categories\": [\"0\", \"1\", \"2\", \"3\", \"4\", \"5\", \"6\", \"7\", \"8\", \"9\", \"10\", \"11\", \"12\", \"13\", \"14\"], \"mode\": \"lines\", \"name\": \"weighted_accuracy_max\", \"stepped\": true, \"type\": \"scatter\", \"data\": [0.9552285153782735, 0.9552285153782735, 0.9552285153782735, 0.9552285153782735, 0.9552285153782735, 0.9552285153782735, 0.9552285153782735, 0.9552285153782735, 0.9552285153782735, 0.9552285153782735, 0.9552285153782735, 0.9552285153782735, 0.9552285153782735, 0.9552285153782735, 0.9552285153782735]}], \"recall_score_micro\": [{\"categories\": [\"0\", \"1\", \"2\", \"3\", \"4\", \"5\", \"6\", \"7\", \"8\", \"9\", \"10\", \"11\", \"12\", \"13\", \"14\"], \"mode\": \"markers\", \"name\": \"recall_score_micro\", \"stepped\": false, \"type\": \"scatter\", \"data\": [0.9489987538975523, 0.9461382430884028, 0.9072031128419121, 0.9128007313191415, 0.8927744164582091, 0.8761039891992074, 0.8839409243443105, 0.8739904434527622, 0.7117757609860366, 0.8293315988181527, 0.8594336547943374, 0.8516000623979766, 0.8726222378217163, 0.9161596831074194, 0.9480037754489962]}, {\"categories\": [\"0\", \"1\", \"2\", \"3\", \"4\", \"5\", \"6\", \"7\", \"8\", \"9\", \"10\", \"11\", \"12\", \"13\", \"14\"], \"mode\": \"lines\", \"name\": \"recall_score_micro_max\", \"stepped\": true, \"type\": \"scatter\", \"data\": [0.9489987538975523, 0.9489987538975523, 0.9489987538975523, 0.9489987538975523, 0.9489987538975523, 0.9489987538975523, 0.9489987538975523, 0.9489987538975523, 0.9489987538975523, 0.9489987538975523, 0.9489987538975523, 0.9489987538975523, 0.9489987538975523, 0.9489987538975523, 0.9489987538975523]}], \"balanced_accuracy\": [{\"categories\": [\"0\", \"1\", \"2\", \"3\", \"4\", \"5\", \"6\", \"7\", \"8\", \"9\", \"10\", \"11\", \"12\", \"13\", \"14\"], \"mode\": \"markers\", \"name\": \"balanced_accuracy\", \"stepped\": false, \"type\": \"scatter\", \"data\": [0.9412697819011968, 0.9383604253313473, 0.8838741165904868, 0.9142715397392118, 0.8594203908177049, 0.8765379855054958, 0.871948454880774, 0.8496227735993163, 0.5689808546109291, 0.8553801414936513, 0.8714572576338661, 0.8605024235627662, 0.8833594184756789, 0.9018211005794198, 0.9402041699842228]}, {\"categories\": [\"0\", \"1\", \"2\", \"3\", \"4\", \"5\", \"6\", \"7\", \"8\", \"9\", \"10\", \"11\", \"12\", \"13\", \"14\"], \"mode\": \"lines\", \"name\": \"balanced_accuracy_max\", \"stepped\": true, \"type\": \"scatter\", \"data\": [0.9412697819011968, 0.9412697819011968, 0.9412697819011968, 0.9412697819011968, 0.9412697819011968, 0.9412697819011968, 0.9412697819011968, 0.9412697819011968, 0.9412697819011968, 0.9412697819011968, 0.9412697819011968, 0.9412697819011968, 0.9412697819011968, 0.9412697819011968, 0.9412697819011968]}], \"f1_score_micro\": [{\"categories\": [\"0\", \"1\", \"2\", \"3\", \"4\", \"5\", \"6\", \"7\", \"8\", \"9\", \"10\", \"11\", \"12\", \"13\", \"14\"], \"mode\": \"markers\", \"name\": \"f1_score_micro\", \"stepped\": false, \"type\": \"scatter\", \"data\": [0.9489987538975523, 0.9461382430884028, 0.9072031128419121, 0.9128007313191415, 0.8927744164582091, 0.8761039891992074, 0.8839409243443105, 0.8739904434527624, 0.7117757609860366, 0.8293315988181527, 0.8594336547943374, 0.8516000623979765, 0.8726222378217163, 0.9161596831074194, 0.9480037754489962]}, {\"categories\": [\"0\", \"1\", \"2\", \"3\", \"4\", \"5\", \"6\", \"7\", \"8\", \"9\", \"10\", \"11\", \"12\", \"13\", \"14\"], \"mode\": \"lines\", \"name\": \"f1_score_micro_max\", \"stepped\": true, \"type\": \"scatter\", \"data\": [0.9489987538975523, 0.9489987538975523, 0.9489987538975523, 0.9489987538975523, 0.9489987538975523, 0.9489987538975523, 0.9489987538975523, 0.9489987538975523, 0.9489987538975523, 0.9489987538975523, 0.9489987538975523, 0.9489987538975523, 0.9489987538975523, 0.9489987538975523, 0.9489987538975523]}], \"log_loss\": [{\"categories\": [\"0\", \"1\", \"2\", \"3\", \"4\", \"5\", \"6\", \"7\", \"8\", \"9\", \"10\", \"11\", \"12\", \"13\", \"14\"], \"mode\": \"markers\", \"name\": \"log_loss\", \"stepped\": false, \"type\": \"scatter\", \"data\": [0.12375843298159143, 0.1471790988415491, 0.28676414948497725, 0.2811670799655948, 0.35241592455621346, 0.32604903194092516, 0.32626199820848734, 0.3522653346234605, 0.5021874078881121, 0.4915933690587648, 0.39505866026493613, 0.44125700468561146, 0.5908514893649388, 0.3725532405251528, 0.15276416799374368]}, {\"categories\": [\"0\", \"1\", \"2\", \"3\", \"4\", \"5\", \"6\", \"7\", \"8\", \"9\", \"10\", \"11\", \"12\", \"13\", \"14\"], \"mode\": \"lines\", \"name\": \"log_loss_min\", \"stepped\": true, \"type\": \"scatter\", \"data\": [0.12375843298159143, 0.12375843298159143, 0.12375843298159143, 0.12375843298159143, 0.12375843298159143, 0.12375843298159143, 0.12375843298159143, 0.12375843298159143, 0.12375843298159143, 0.12375843298159143, 0.12375843298159143, 0.12375843298159143, 0.12375843298159143, 0.12375843298159143, 0.12375843298159143]}], \"f1_score_macro\": [{\"categories\": [\"0\", \"1\", \"2\", \"3\", \"4\", \"5\", \"6\", \"7\", \"8\", \"9\", \"10\", \"11\", \"12\", \"13\", \"14\"], \"mode\": \"markers\", \"name\": \"f1_score_macro\", \"stepped\": false, \"type\": \"scatter\", \"data\": [0.9425173431997006, 0.9393379537499501, 0.8930735344289359, 0.9042295096460546, 0.8738033040343258, 0.8647337718131757, 0.8700955712837318, 0.8557547229041343, 0.5286139914629838, 0.8217977166638253, 0.8497897887251744, 0.8409446611000378, 0.8635093890581221, 0.9050224561445908, 0.9413919540353518]}, {\"categories\": [\"0\", \"1\", \"2\", \"3\", \"4\", \"5\", \"6\", \"7\", \"8\", \"9\", \"10\", \"11\", \"12\", \"13\", \"14\"], \"mode\": \"lines\", \"name\": \"f1_score_macro_max\", \"stepped\": true, \"type\": \"scatter\", \"data\": [0.9425173431997006, 0.9425173431997006, 0.9425173431997006, 0.9425173431997006, 0.9425173431997006, 0.9425173431997006, 0.9425173431997006, 0.9425173431997006, 0.9425173431997006, 0.9425173431997006, 0.9425173431997006, 0.9425173431997006, 0.9425173431997006, 0.9425173431997006, 0.9425173431997006]}], \"precision_score_weighted\": [{\"categories\": [\"0\", \"1\", \"2\", \"3\", \"4\", \"5\", \"6\", \"7\", \"8\", \"9\", \"10\", \"11\", \"12\", \"13\", \"14\"], \"mode\": \"markers\", \"name\": \"precision_score_weighted\", \"stepped\": false, \"type\": \"scatter\", \"data\": [0.9489771865610411, 0.9461023511454716, 0.9069540949049619, 0.9167782781531114, 0.8941367602656513, 0.8827060863881341, 0.8852089554708046, 0.8728196829471814, 0.7962792520030239, 0.8650968225061102, 0.8763552225067688, 0.8671955143760907, 0.8867503042849797, 0.9165897021554388, 0.9479682911355886]}, {\"categories\": [\"0\", \"1\", \"2\", \"3\", \"4\", \"5\", \"6\", \"7\", \"8\", \"9\", \"10\", \"11\", \"12\", \"13\", \"14\"], \"mode\": \"lines\", \"name\": \"precision_score_weighted_max\", \"stepped\": true, \"type\": \"scatter\", \"data\": [0.9489771865610411, 0.9489771865610411, 0.9489771865610411, 0.9489771865610411, 0.9489771865610411, 0.9489771865610411, 0.9489771865610411, 0.9489771865610411, 0.9489771865610411, 0.9489771865610411, 0.9489771865610411, 0.9489771865610411, 0.9489771865610411, 0.9489771865610411, 0.9489771865610411]}], \"norm_macro_recall\": [{\"categories\": [\"0\", \"1\", \"2\", \"3\", \"4\", \"5\", \"6\", \"7\", \"8\", \"9\", \"10\", \"11\", \"12\", \"13\", \"14\"], \"mode\": \"markers\", \"name\": \"norm_macro_recall\", \"stepped\": false, \"type\": \"scatter\", \"data\": [0.8825395638023936, 0.8767208506626946, 0.7677482331809736, 0.8285430794784238, 0.7188407816354099, 0.7530759710109916, 0.7438969097615479, 0.6992455471986325, 0.13796170922185827, 0.7107602829873025, 0.742914515267732, 0.7210048471255326, 0.7667188369513577, 0.8036422011588394, 0.8804083399684458]}, {\"categories\": [\"0\", \"1\", \"2\", \"3\", \"4\", \"5\", \"6\", \"7\", \"8\", \"9\", \"10\", \"11\", \"12\", \"13\", \"14\"], \"mode\": \"lines\", \"name\": \"norm_macro_recall_max\", \"stepped\": true, \"type\": \"scatter\", \"data\": [0.8825395638023936, 0.8825395638023936, 0.8825395638023936, 0.8825395638023936, 0.8825395638023936, 0.8825395638023936, 0.8825395638023936, 0.8825395638023936, 0.8825395638023936, 0.8825395638023936, 0.8825395638023936, 0.8825395638023936, 0.8825395638023936, 0.8825395638023936, 0.8825395638023936]}], \"AUC_weighted\": [{\"categories\": [\"0\", \"1\", \"2\", \"3\", \"4\", \"5\", \"6\", \"7\", \"8\", \"9\", \"10\", \"11\", \"12\", \"13\", \"14\"], \"mode\": \"markers\", \"name\": \"AUC_weighted\", \"stepped\": false, \"type\": \"scatter\", \"data\": [0.9894372573706551, 0.9884070568456303, 0.9681037430562913, 0.9736514809591513, 0.9573671361970995, 0.9386462787122539, 0.9456456063188156, 0.9424467668175974, 0.9629661173270585, 0.9388034483840233, 0.9486560825532514, 0.9422155809931301, 0.9523529901101382, 0.9715041602766791, 0.9892334766349845]}, {\"categories\": [\"0\", \"1\", \"2\", \"3\", \"4\", \"5\", \"6\", \"7\", \"8\", \"9\", \"10\", \"11\", \"12\", \"13\", \"14\"], \"mode\": \"lines\", \"name\": \"AUC_weighted_max\", \"stepped\": true, \"type\": \"scatter\", \"data\": [0.9894372573706551, 0.9894372573706551, 0.9894372573706551, 0.9894372573706551, 0.9894372573706551, 0.9894372573706551, 0.9894372573706551, 0.9894372573706551, 0.9894372573706551, 0.9894372573706551, 0.9894372573706551, 0.9894372573706551, 0.9894372573706551, 0.9894372573706551, 0.9894372573706551]}], \"f1_score_weighted\": [{\"categories\": [\"0\", \"1\", \"2\", \"3\", \"4\", \"5\", \"6\", \"7\", \"8\", \"9\", \"10\", \"11\", \"12\", \"13\", \"14\"], \"mode\": \"markers\", \"name\": \"f1_score_weighted\", \"stepped\": false, \"type\": \"scatter\", \"data\": [0.9489200672279957, 0.9460733645372986, 0.9059750241592939, 0.9137432386625961, 0.8900121558956432, 0.8777649661239512, 0.8841384459027596, 0.8727982938307471, 0.6261476414557655, 0.8339888216215531, 0.8623929151557657, 0.8544969715833778, 0.8751265763230299, 0.9158111313371005, 0.9479317457196809]}, {\"categories\": [\"0\", \"1\", \"2\", \"3\", \"4\", \"5\", \"6\", \"7\", \"8\", \"9\", \"10\", \"11\", \"12\", \"13\", \"14\"], \"mode\": \"lines\", \"name\": \"f1_score_weighted_max\", \"stepped\": true, \"type\": \"scatter\", \"data\": [0.9489200672279957, 0.9489200672279957, 0.9489200672279957, 0.9489200672279957, 0.9489200672279957, 0.9489200672279957, 0.9489200672279957, 0.9489200672279957, 0.9489200672279957, 0.9489200672279957, 0.9489200672279957, 0.9489200672279957, 0.9489200672279957, 0.9489200672279957, 0.9489200672279957]}], \"recall_score_macro\": [{\"categories\": [\"0\", \"1\", \"2\", \"3\", \"4\", \"5\", \"6\", \"7\", \"8\", \"9\", \"10\", \"11\", \"12\", \"13\", \"14\"], \"mode\": \"markers\", \"name\": \"recall_score_macro\", \"stepped\": false, \"type\": \"scatter\", \"data\": [0.9412697819011968, 0.9383604253313473, 0.8838741165904868, 0.9142715397392118, 0.8594203908177049, 0.8765379855054958, 0.871948454880774, 0.8496227735993163, 0.5689808546109291, 0.8553801414936513, 0.8714572576338661, 0.8605024235627662, 0.8833594184756789, 0.9018211005794198, 0.9402041699842228]}, {\"categories\": [\"0\", \"1\", \"2\", \"3\", \"4\", \"5\", \"6\", \"7\", \"8\", \"9\", \"10\", \"11\", \"12\", \"13\", \"14\"], \"mode\": \"lines\", \"name\": \"recall_score_macro_max\", \"stepped\": true, \"type\": \"scatter\", \"data\": [0.9412697819011968, 0.9412697819011968, 0.9412697819011968, 0.9412697819011968, 0.9412697819011968, 0.9412697819011968, 0.9412697819011968, 0.9412697819011968, 0.9412697819011968, 0.9412697819011968, 0.9412697819011968, 0.9412697819011968, 0.9412697819011968, 0.9412697819011968, 0.9412697819011968]}], \"average_precision_score_micro\": [{\"categories\": [\"0\", \"1\", \"2\", \"3\", \"4\", \"5\", \"6\", \"7\", \"8\", \"9\", \"10\", \"11\", \"12\", \"13\", \"14\"], \"mode\": \"markers\", \"name\": \"average_precision_score_micro\", \"stepped\": false, \"type\": \"scatter\", \"data\": [0.9907990663596946, 0.9898778159091242, 0.9708585186623164, 0.97296675073788, 0.9563875269385013, 0.9407064306925226, 0.9503122403841852, 0.9485890044996403, 0.8924446303279628, 0.9286479217616037, 0.9438688873757936, 0.9375980898956146, 0.9459666763644683, 0.9741993255998157, 0.990565826938493]}, {\"categories\": [\"0\", \"1\", \"2\", \"3\", \"4\", \"5\", \"6\", \"7\", \"8\", \"9\", \"10\", \"11\", \"12\", \"13\", \"14\"], \"mode\": \"lines\", \"name\": \"average_precision_score_micro_max\", \"stepped\": true, \"type\": \"scatter\", \"data\": [0.9907990663596946, 0.9907990663596946, 0.9907990663596946, 0.9907990663596946, 0.9907990663596946, 0.9907990663596946, 0.9907990663596946, 0.9907990663596946, 0.9907990663596946, 0.9907990663596946, 0.9907990663596946, 0.9907990663596946, 0.9907990663596946, 0.9907990663596946, 0.9907990663596946]}], \"average_precision_score_macro\": [{\"categories\": [\"0\", \"1\", \"2\", \"3\", \"4\", \"5\", \"6\", \"7\", \"8\", \"9\", \"10\", \"11\", \"12\", \"13\", \"14\"], \"mode\": \"markers\", \"name\": \"average_precision_score_macro\", \"stepped\": false, \"type\": \"scatter\", \"data\": [0.9875282994787392, 0.9861997859270297, 0.961924837889625, 0.9683520318550548, 0.9496279614400175, 0.9259732296418811, 0.9350011597349086, 0.9296016693087931, 0.9546955211229999, 0.9261354693713318, 0.9420392352784082, 0.9350198566203071, 0.9443772043614368, 0.9655677066785966, 0.9871670766551088]}, {\"categories\": [\"0\", \"1\", \"2\", \"3\", \"4\", \"5\", \"6\", \"7\", \"8\", \"9\", \"10\", \"11\", \"12\", \"13\", \"14\"], \"mode\": \"lines\", \"name\": \"average_precision_score_macro_max\", \"stepped\": true, \"type\": \"scatter\", \"data\": [0.9875282994787392, 0.9875282994787392, 0.9875282994787392, 0.9875282994787392, 0.9875282994787392, 0.9875282994787392, 0.9875282994787392, 0.9875282994787392, 0.9875282994787392, 0.9875282994787392, 0.9875282994787392, 0.9875282994787392, 0.9875282994787392, 0.9875282994787392, 0.9875282994787392]}], \"precision_score_macro\": [{\"categories\": [\"0\", \"1\", \"2\", \"3\", \"4\", \"5\", \"6\", \"7\", \"8\", \"9\", \"10\", \"11\", \"12\", \"13\", \"14\"], \"mode\": \"markers\", \"name\": \"precision_score_macro\", \"stepped\": false, \"type\": \"scatter\", \"data\": [0.9439317679210139, 0.9404308557898253, 0.9050482447911552, 0.8967350065710272, 0.8969374625921991, 0.8568736263966432, 0.8693202819283249, 0.8633879844618081, 0.8445696522789833, 0.8183308317056216, 0.8410758027052343, 0.8328202392204407, 0.8543518963625075, 0.9096407255296747, 0.942712812274041]}, {\"categories\": [\"0\", \"1\", \"2\", \"3\", \"4\", \"5\", \"6\", \"7\", \"8\", \"9\", \"10\", \"11\", \"12\", \"13\", \"14\"], \"mode\": \"lines\", \"name\": \"precision_score_macro_max\", \"stepped\": true, \"type\": \"scatter\", \"data\": [0.9439317679210139, 0.9439317679210139, 0.9439317679210139, 0.9439317679210139, 0.9439317679210139, 0.9439317679210139, 0.9439317679210139, 0.9439317679210139, 0.9439317679210139, 0.9439317679210139, 0.9439317679210139, 0.9439317679210139, 0.9439317679210139, 0.9439317679210139, 0.9439317679210139]}], \"recall_score_weighted\": [{\"categories\": [\"0\", \"1\", \"2\", \"3\", \"4\", \"5\", \"6\", \"7\", \"8\", \"9\", \"10\", \"11\", \"12\", \"13\", \"14\"], \"mode\": \"markers\", \"name\": \"recall_score_weighted\", \"stepped\": false, \"type\": \"scatter\", \"data\": [0.9489987538975523, 0.9461382430884028, 0.9072031128419121, 0.9128007313191415, 0.8927744164582091, 0.8761039891992074, 0.8839409243443105, 0.8739904434527622, 0.7117757609860366, 0.8293315988181527, 0.8594336547943374, 0.8516000623979766, 0.8726222378217163, 0.9161596831074194, 0.9480037754489962]}, {\"categories\": [\"0\", \"1\", \"2\", \"3\", \"4\", \"5\", \"6\", \"7\", \"8\", \"9\", \"10\", \"11\", \"12\", \"13\", \"14\"], \"mode\": \"lines\", \"name\": \"recall_score_weighted_max\", \"stepped\": true, \"type\": \"scatter\", \"data\": [0.9489987538975523, 0.9489987538975523, 0.9489987538975523, 0.9489987538975523, 0.9489987538975523, 0.9489987538975523, 0.9489987538975523, 0.9489987538975523, 0.9489987538975523, 0.9489987538975523, 0.9489987538975523, 0.9489987538975523, 0.9489987538975523, 0.9489987538975523, 0.9489987538975523]}], \"accuracy\": [{\"categories\": [\"0\", \"1\", \"2\", \"3\", \"4\", \"5\", \"6\", \"7\", \"8\", \"9\", \"10\", \"11\", \"12\", \"13\", \"14\"], \"mode\": \"markers\", \"name\": \"accuracy\", \"stepped\": false, \"type\": \"scatter\", \"data\": [0.9489987538975523, 0.9461382430884028, 0.9072031128419121, 0.9128007313191415, 0.8927744164582091, 0.8761039891992074, 0.8839409243443105, 0.8739904434527622, 0.7117757609860366, 0.8293315988181527, 0.8594336547943374, 0.8516000623979766, 0.8726222378217163, 0.9161596831074194, 0.9480037754489962]}, {\"categories\": [\"0\", \"1\", \"2\", \"3\", \"4\", \"5\", \"6\", \"7\", \"8\", \"9\", \"10\", \"11\", \"12\", \"13\", \"14\"], \"mode\": \"lines\", \"name\": \"accuracy_max\", \"stepped\": true, \"type\": \"scatter\", \"data\": [0.9489987538975523, 0.9489987538975523, 0.9489987538975523, 0.9489987538975523, 0.9489987538975523, 0.9489987538975523, 0.9489987538975523, 0.9489987538975523, 0.9489987538975523, 0.9489987538975523, 0.9489987538975523, 0.9489987538975523, 0.9489987538975523, 0.9489987538975523, 0.9489987538975523]}], \"AUC_macro\": [{\"categories\": [\"0\", \"1\", \"2\", \"3\", \"4\", \"5\", \"6\", \"7\", \"8\", \"9\", \"10\", \"11\", \"12\", \"13\", \"14\"], \"mode\": \"markers\", \"name\": \"AUC_macro\", \"stepped\": false, \"type\": \"scatter\", \"data\": [0.9894372573706551, 0.9884070568456303, 0.9681037430562914, 0.9736514809591514, 0.9573671361970993, 0.9386462787122539, 0.9456456063188156, 0.9424467668175973, 0.9629661173270586, 0.9388034483840233, 0.9486560825532514, 0.94221558099313, 0.9523529901101382, 0.9715041602766791, 0.9892334766349845]}, {\"categories\": [\"0\", \"1\", \"2\", \"3\", \"4\", \"5\", \"6\", \"7\", \"8\", \"9\", \"10\", \"11\", \"12\", \"13\", \"14\"], \"mode\": \"lines\", \"name\": \"AUC_macro_max\", \"stepped\": true, \"type\": \"scatter\", \"data\": [0.9894372573706551, 0.9894372573706551, 0.9894372573706551, 0.9894372573706551, 0.9894372573706551, 0.9894372573706551, 0.9894372573706551, 0.9894372573706551, 0.9894372573706551, 0.9894372573706551, 0.9894372573706551, 0.9894372573706551, 0.9894372573706551, 0.9894372573706551, 0.9894372573706551]}], \"matthews_correlation\": [{\"categories\": [\"0\", \"1\", \"2\", \"3\", \"4\", \"5\", \"6\", \"7\", \"8\", \"9\", \"10\", \"11\", \"12\", \"13\", \"14\"], \"mode\": \"markers\", \"name\": \"matthews_correlation\", \"stepped\": false, \"type\": \"scatter\", \"data\": [0.8851860682869068, 0.8787806566022366, 0.7886246400557834, 0.8108118140519366, 0.755312111090228, 0.7331437603848027, 0.7411802410127925, 0.7128667287442135, 0.2934604247935796, 0.6726745024974422, 0.7118546910874203, 0.6927558942458837, 0.7371403147567591, 0.8113100984131898, 0.882904767189229]}, {\"categories\": [\"0\", \"1\", \"2\", \"3\", \"4\", \"5\", \"6\", \"7\", \"8\", \"9\", \"10\", \"11\", \"12\", \"13\", \"14\"], \"mode\": \"lines\", \"name\": \"matthews_correlation_max\", \"stepped\": true, \"type\": \"scatter\", \"data\": [0.8851860682869068, 0.8851860682869068, 0.8851860682869068, 0.8851860682869068, 0.8851860682869068, 0.8851860682869068, 0.8851860682869068, 0.8851860682869068, 0.8851860682869068, 0.8851860682869068, 0.8851860682869068, 0.8851860682869068, 0.8851860682869068, 0.8851860682869068, 0.8851860682869068]}]}, \"metricName\": null, \"primaryMetricName\": \"AUC_weighted\", \"showLegend\": false}, \"run_metrics\": [{\"name\": \"experiment_status\", \"run_id\": \"AutoML_b03ac74a-f719-41c6-9661-fbd785482b0c\", \"categories\": [0, 1, 2, 3, 4, 5, 6, 7, 8, 9, 10, 11, 12, 13], \"series\": [{\"data\": [\"DatasetEvaluation\", \"FeaturesGeneration\", \"DatasetFeaturization\", \"DatasetFeaturizationCompleted\", \"DatasetCrossValidationSplit\", \"ModelSelection\", \"BestRunExplainModel\", \"ModelExplanationDataSetSetup\", \"PickSurrogateModel\", \"EngineeredFeatureExplanations\", \"EngineeredFeatureExplanations\", \"RawFeaturesExplanations\", \"RawFeaturesExplanations\", \"BestRunExplainModel\"]}]}, {\"name\": \"experiment_status_description\", \"run_id\": \"AutoML_b03ac74a-f719-41c6-9661-fbd785482b0c\", \"categories\": [0, 1, 2, 3, 4, 5, 6, 7, 8, 9, 10, 11, 12, 13], \"series\": [{\"data\": [\"Gathering dataset statistics.\", \"Generating features for the dataset.\", \"Beginning to fit featurizers and featurize the dataset.\", \"Completed fit featurizers and featurizing the dataset.\", \"Generating individually featurized CV splits.\", \"Beginning model selection.\", \"Best run model explanations started\", \"Model explanations data setup completed\", \"Choosing LightGBM as the surrogate model for explanations\", \"Computation of engineered features started\", \"Computation of engineered features completed\", \"Computation of raw features started\", \"Computation of raw features completed\", \"Best run model explanations completed\"]}]}, {\"name\": \"recall_score_weighted\", \"run_id\": \"AutoML_b03ac74a-f719-41c6-9661-fbd785482b0c\", \"categories\": [0], \"series\": [{\"data\": [0.9489987538975523]}]}, {\"name\": \"log_loss\", \"run_id\": \"AutoML_b03ac74a-f719-41c6-9661-fbd785482b0c\", \"categories\": [0], \"series\": [{\"data\": [0.12375843298159143]}]}, {\"name\": \"accuracy\", \"run_id\": \"AutoML_b03ac74a-f719-41c6-9661-fbd785482b0c\", \"categories\": [0], \"series\": [{\"data\": [0.9489987538975523]}]}, {\"name\": \"recall_score_macro\", \"run_id\": \"AutoML_b03ac74a-f719-41c6-9661-fbd785482b0c\", \"categories\": [0], \"series\": [{\"data\": [0.9412697819011968]}]}, {\"name\": \"balanced_accuracy\", \"run_id\": \"AutoML_b03ac74a-f719-41c6-9661-fbd785482b0c\", \"categories\": [0], \"series\": [{\"data\": [0.9412697819011968]}]}, {\"name\": \"AUC_macro\", \"run_id\": \"AutoML_b03ac74a-f719-41c6-9661-fbd785482b0c\", \"categories\": [0], \"series\": [{\"data\": [0.9894372573706551]}]}, {\"name\": \"average_precision_score_macro\", \"run_id\": \"AutoML_b03ac74a-f719-41c6-9661-fbd785482b0c\", \"categories\": [0], \"series\": [{\"data\": [0.9875282994787392]}]}, {\"name\": \"weighted_accuracy\", \"run_id\": \"AutoML_b03ac74a-f719-41c6-9661-fbd785482b0c\", \"categories\": [0], \"series\": [{\"data\": [0.9552285153782735]}]}, {\"name\": \"f1_score_micro\", \"run_id\": \"AutoML_b03ac74a-f719-41c6-9661-fbd785482b0c\", \"categories\": [0], \"series\": [{\"data\": [0.9489987538975523]}]}, {\"name\": \"average_precision_score_micro\", \"run_id\": \"AutoML_b03ac74a-f719-41c6-9661-fbd785482b0c\", \"categories\": [0], \"series\": [{\"data\": [0.9907990663596946]}]}, {\"name\": \"f1_score_macro\", \"run_id\": \"AutoML_b03ac74a-f719-41c6-9661-fbd785482b0c\", \"categories\": [0], \"series\": [{\"data\": [0.9425173431997006]}]}, {\"name\": \"f1_score_weighted\", \"run_id\": \"AutoML_b03ac74a-f719-41c6-9661-fbd785482b0c\", \"categories\": [0], \"series\": [{\"data\": [0.9489200672279957]}]}, {\"name\": \"AUC_weighted\", \"run_id\": \"AutoML_b03ac74a-f719-41c6-9661-fbd785482b0c\", \"categories\": [0], \"series\": [{\"data\": [0.9894372573706551]}]}, {\"name\": \"norm_macro_recall\", \"run_id\": \"AutoML_b03ac74a-f719-41c6-9661-fbd785482b0c\", \"categories\": [0], \"series\": [{\"data\": [0.8825395638023936]}]}, {\"name\": \"precision_score_macro\", \"run_id\": \"AutoML_b03ac74a-f719-41c6-9661-fbd785482b0c\", \"categories\": [0], \"series\": [{\"data\": [0.9439317679210139]}]}, {\"name\": \"AUC_micro\", \"run_id\": \"AutoML_b03ac74a-f719-41c6-9661-fbd785482b0c\", \"categories\": [0], \"series\": [{\"data\": [0.9906285724240073]}]}, {\"name\": \"matthews_correlation\", \"run_id\": \"AutoML_b03ac74a-f719-41c6-9661-fbd785482b0c\", \"categories\": [0], \"series\": [{\"data\": [0.8851860682869068]}]}, {\"name\": \"precision_score_weighted\", \"run_id\": \"AutoML_b03ac74a-f719-41c6-9661-fbd785482b0c\", \"categories\": [0], \"series\": [{\"data\": [0.9489771865610411]}]}, {\"name\": \"recall_score_micro\", \"run_id\": \"AutoML_b03ac74a-f719-41c6-9661-fbd785482b0c\", \"categories\": [0], \"series\": [{\"data\": [0.9489987538975523]}]}, {\"name\": \"average_precision_score_weighted\", \"run_id\": \"AutoML_b03ac74a-f719-41c6-9661-fbd785482b0c\", \"categories\": [0], \"series\": [{\"data\": [0.9898748329460215]}]}, {\"name\": \"precision_score_micro\", \"run_id\": \"AutoML_b03ac74a-f719-41c6-9661-fbd785482b0c\", \"categories\": [0], \"series\": [{\"data\": [0.9489987538975523]}]}], \"run_logs\": \"\\nRun is completed.\", \"graph\": {}, \"widget_settings\": {\"childWidgetDisplay\": \"popup\", \"send_telemetry\": false, \"log_level\": \"INFO\", \"sdk_version\": \"1.29.0\"}, \"loading\": false}"
          },
          "metadata": {}
        }
      ],
      "execution_count": 6,
      "metadata": {
        "collapsed": true,
        "jupyter": {
          "source_hidden": false,
          "outputs_hidden": false
        },
        "nteract": {
          "transient": {
            "deleting": false
          }
        },
        "gather": {
          "logged": 1622125584231
        }
      }
    },
    {
      "cell_type": "code",
      "source": [
        "# Get the best fitted model\r\n",
        "best_run, fitted_model = local_run.get_output()\r\n",
        "fitted_model"
      ],
      "outputs": [
        {
          "output_type": "execute_result",
          "execution_count": 7,
          "data": {
            "text/plain": "Pipeline(memory=None,\n         steps=[('datatransformer',\n                 DataTransformer(enable_dnn=False, enable_feature_sweeping=False, feature_sweeping_config={}, feature_sweeping_timeout=86400, featurization_config=None, force_text_dnn=False, is_cross_validation=True, is_onnx_compatible=True, observer=None, task='classification', working_dir='/mnt/batch/tasks/shared/LS_root/mount...\n    subsampling_schedule='hyperband_clip',\n    cost_mode_param=None,\n    iteration_timeout_mode=0,\n    iteration_timeout_param=None,\n    feature_column_names=None,\n    label_column_name=None,\n    weight_column_name=None,\n    cv_split_column_names=None,\n    enable_streaming=None,\n    timeseries_param_dict=None,\n    gpu_training_param_dict={'processing_unit_type': 'cpu'}\n), random_state=None))],\n         verbose=False)"
          },
          "metadata": {}
        }
      ],
      "execution_count": 7,
      "metadata": {
        "collapsed": true,
        "jupyter": {
          "source_hidden": false,
          "outputs_hidden": false
        },
        "nteract": {
          "transient": {
            "deleting": false
          }
        },
        "gather": {
          "logged": 1622128289503
        }
      }
    },
    {
      "cell_type": "code",
      "source": [
        "# Retrieve and save the ONNX format of the best fitted model\r\n",
        "from azureml.automl.runtime.onnx_convert import OnnxConverter\r\n",
        "\r\n",
        "best_run, onnx_mdl = local_run.get_output(return_onnx_model=True)\r\n",
        "onnx_filepath = \"./best_fitted_model.onnx\"\r\n",
        "OnnxConverter.save_onnx_model(onnx_mdl, onnx_fl_path)"
      ],
      "outputs": [],
      "execution_count": 9,
      "metadata": {
        "collapsed": true,
        "jupyter": {
          "source_hidden": false,
          "outputs_hidden": false
        },
        "nteract": {
          "transient": {
            "deleting": false
          }
        },
        "gather": {
          "logged": 1622128383064
        }
      }
    },
    {
      "cell_type": "code",
      "source": [
        "# Register the Model in AML for later reference in Synapse\r\n",
        "from azureml.core import Model\r\n",
        "\r\n",
        "model = Model.register(model_path = onnx_filepath,\r\n",
        "                       model_name = \"DiabeticONNXModel\",\r\n",
        "                       model_framework=Model.Framework.ONNX ,  \r\n",
        "                       tags = {\"onnx\":\"V0\"},\r\n",
        "                       description = \"DiabeticONNXModel\",\r\n",
        "                       workspace = ws)"
      ],
      "outputs": [
        {
          "output_type": "stream",
          "name": "stdout",
          "text": [
            "Registering model DiabeticONNXModel\n"
          ]
        }
      ],
      "execution_count": 10,
      "metadata": {
        "collapsed": true,
        "jupyter": {
          "source_hidden": false,
          "outputs_hidden": false
        },
        "nteract": {
          "transient": {
            "deleting": false
          }
        },
        "gather": {
          "logged": 1622128388728
        }
      }
    },
    {
      "cell_type": "markdown",
      "source": [
        "## Synape Link to Azure ML\r\n",
        "\r\n",
        "Create a Service Principal, add it to AML workspace: https://docs.microsoft.com/en-us/azure/synapse-analytics/machine-learning/quickstart-integrate-azure-machine-learning\r\n",
        "\r\n",
        "In Synapse Studio link to this AML: https://docs.microsoft.com/en-us/azure/synapse-analytics/machine-learning/tutorial-sql-pool-model-scoring-wizard. You could follow that example and modify to this diebetes dataset and onnx model. In essence, it does thse three steps:\r\n",
        "\r\n",
        "1- Upload the diebetes.csv file in Synapse primary storage account (or access it from AML storage after granting access rights)\r\n",
        "\r\n",
        "2- Create a table in Synapse Dedicated SQL Pool and populate it from teh csv file (see [CreateInsertDiabeticTable.sql](./CreateInsertDiabeticTable.sql))\r\n",
        "\r\n",
        "3- Right-click the table->Machine Leanring->Enrich with Exsiting model. Choose your Azure ML workspace and the registered ONNX Model.\r\n",
        "\r\n",
        "4- The Wizard would create a table to host the model, and a stored procedure to run the prediction. Follow this mapping between the Diabetic table and ONNX Model:\r\n",
        "<img src=\"./MappingModelColumns.PNG\">\r\n",
        "\r\n",
        "5- Execute the Stored Procedure [PredictDiabetic](./PredictDiabetic.sql) to see the predictions\r\n",
        "6- Y"
      ],
      "metadata": {
        "nteract": {
          "transient": {
            "deleting": false
          }
        }
      }
    },
    {
      "cell_type": "markdown",
      "source": [
        "## Confusion Matrix \r\n",
        "\r\n",
        "Creating a confusion matrix"
      ],
      "metadata": {
        "nteract": {
          "transient": {
            "deleting": false
          }
        }
      }
    },
    {
      "cell_type": "code",
      "source": [
        "# Create confusion matrix (dataset needs to be in dataframes)\r\n",
        "from sklearn.metrics import confusion_matrix\r\n",
        "import numpy as np\r\n",
        "import itertools\r\n",
        "from matplotlib import pyplot as plt\r\n",
        "\r\n",
        "\r\n",
        "# convert the test data to dataframe\r\n",
        "X_test_df = validation_data.drop_columns(columns=['Diabetic']).to_pandas_dataframe()\r\n",
        "y_test_df = validation_data.keep_columns(columns=['Diabetic'], validate=True).to_pandas_dataframe()\r\n",
        "# call the predict functions on the model\r\n",
        "y_pred = fitted_model.predict(X_test_df)\r\n",
        "y_pred\r\n",
        "\r\n",
        "\r\n",
        "\r\n",
        "cf =confusion_matrix(y_test_df.values,y_pred)\r\n",
        "plt.imshow(cf,cmap=plt.cm.Blues,interpolation='nearest')\r\n",
        "plt.colorbar()\r\n",
        "plt.title('Confusion Matrix')\r\n",
        "plt.xlabel('Predicted')\r\n",
        "plt.ylabel('Actual')\r\n",
        "class_labels = ['False','True']\r\n",
        "tick_marks = np.arange(len(class_labels))\r\n",
        "plt.xticks(tick_marks,class_labels)\r\n",
        "plt.yticks([-0.5,0,1,1.5],['','False','True',''])\r\n",
        "# plotting text value inside cells\r\n",
        "thresh = cf.max() / 2.\r\n",
        "for i,j in itertools.product(range(cf.shape[0]),range(cf.shape[1])):\r\n",
        "    plt.text(j,i,format(cf[i,j],'d'),horizontalalignment='center',color='white' if cf[i,j] >thresh else 'black')\r\n",
        "plt.show()"
      ],
      "outputs": [
        {
          "output_type": "display_data",
          "data": {
            "text/plain": "<Figure size 432x288 with 2 Axes>",
            "image/png": "[encoded data removed]"
          },
          "metadata": {
            "needs_background": "light"
          }
        }
      ],
      "execution_count": 14,
      "metadata": {
        "collapsed": true,
        "jupyter": {
          "source_hidden": false,
          "outputs_hidden": false
        },
        "nteract": {
          "transient": {
            "deleting": false
          }
        },
        "gather": {
          "logged": 1622129466970
        }
      }
    },
    {
      "cell_type": "markdown",
      "source": [
        "## Model Explaination\r\n",
        "\r\n",
        "Creating Model Explaination"
      ],
      "metadata": {
        "nteract": {
          "transient": {
            "deleting": false
          }
        }
      }
    },
    {
      "cell_type": "code",
      "source": [
        "# Run explaination\r\n",
        "from azureml.interpret import ExplanationClient\r\n",
        "\r\n",
        "client = ExplanationClient.from_run(best_run)\r\n",
        "engineered_explanations = client.download_model_explanation(raw=False)\r\n",
        "print(engineered_explanations.get_feature_importance_dict())\r\n",
        "print(\"You can visualize the engineered explanations under the 'Explanations (preview)' tab in the AutoML run at:-\\n\" + best_run.get_portal_url())"
      ],
      "outputs": [
        {
          "output_type": "stream",
          "name": "stdout",
          "text": [
            "{'Pregnancies_CharGramCountVectorizer_0': 1.1321782323640355, 'Age_MeanImputer': 1.0322976263149477, 'BMI_MeanImputer': 0.727508724407809, 'SerumInsulin_MeanImputer': 0.5866519529391103, 'Pregnancies_CharGramCountVectorizer_1': 0.5810706848409658, 'PlasmaGlucose_MeanImputer': 0.5160750599830192, 'TricepsThickness_MeanImputer': 0.34972182691550063, 'DiastolicBloodPressure_MeanImputer': 0.2611272498876044, 'DiabetesPedigree_MeanImputer': 0.1613902447235784, 'Pregnancies_CharGramCountVectorizer_2': 0.09453521663249033, 'Pregnancies_CharGramCountVectorizer_7': 0.08809144451042664, 'Pregnancies_CharGramCountVectorizer_4': 0.07928603250590224, 'Pregnancies_CharGramCountVectorizer_5': 0.0565211908807156, 'Pregnancies_CharGramCountVectorizer_6': 0.056453559674081236, 'Pregnancies_CharGramCountVectorizer_3': 0.04458805551928376, 'Pregnancies_CharGramCountVectorizer_10': 0.02556915339759299, 'PatientID_MeanImputer': 0.016372154376765504, 'Pregnancies_CharGramCountVectorizer_13': 0.006231807005352391, 'Pregnancies_CharGramCountVectorizer_12': 0.00472454602983836, 'Pregnancies_CharGramCountVectorizer_9': 0.004166487896581627, 'Pregnancies_CharGramCountVectorizer_8': 0.0005852250202926795, 'Pregnancies_CharGramCountVectorizer_14': 0.0, 'Pregnancies_CharGramCountVectorizer_11': 0.0}\n",
            "You can visualize the engineered explanations under the 'Explanations (preview)' tab in the AutoML run at:-\n",
            "https://ml.azure.com/runs/AutoML_b03ac74a-f719-41c6-9661-fbd785482b0c_0?wsid=/subscriptions/61489282-e75d-4996-b2ef-3126311e55e6/resourcegroups/ramsoft/workspaces/workspacers&tid=72f988bf-86f1-41af-91ab-2d7cd011db47\n"
          ]
        }
      ],
      "execution_count": 15,
      "metadata": {
        "collapsed": true,
        "jupyter": {
          "source_hidden": false,
          "outputs_hidden": false
        },
        "nteract": {
          "transient": {
            "deleting": false
          }
        },
        "gather": {
          "logged": 1622129525063
        }
      }
    }
  ],
  "metadata": {
    "kernelspec": {
      "name": "python3-azureml",
      "language": "python",
      "display_name": "Python 3.6 - AzureML"
    },
    "language_info": {
      "name": "python",
      "version": "3.6.9",
      "mimetype": "text/x-python",
      "codemirror_mode": {
        "name": "ipython",
        "version": 3
      },
      "pygments_lexer": "ipython3",
      "nbconvert_exporter": "python",
      "file_extension": ".py"
    },
    "kernel_info": {
      "name": "python3-azureml"
    },
    "nteract": {
      "version": "nteract-front-end@1.0.0"
    },
    "microsoft": {
      "host": {
        "AzureML": {
          "notebookHasBeenCompleted": true
        }
      }
    }
  },
  "nbformat": 4,
  "nbformat_minor": 2
}