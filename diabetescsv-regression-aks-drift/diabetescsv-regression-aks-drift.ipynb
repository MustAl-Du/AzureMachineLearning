{
  "cells": [
    {
      "cell_type": "markdown",
      "source": [
        "Copyright (c) Microsoft Corporation. All rights reserved.\n",
        "\n",
        "Licensed under the MIT License."
      ],
      "metadata": {}
    },
    {
      "cell_type": "markdown",
      "source": [
        "![Impressions](https://PixelServer20190423114238.azurewebsites.net/api/impressions/MachineLearningNotebooks/how-to-use-azureml/training/train-within-notebook/train-within-notebook.png)"
      ],
      "metadata": {}
    },
    {
      "cell_type": "markdown",
      "source": [
        "# Train and deploy a model\n",
        "_**Create and deploy a model directly from a notebook**_\n",
        "\n",
        "---\n",
        "---\n",
        "\n",
        "## Contents\n",
        "1. [Introduction](#Introduction)\n",
        "1. [Setup](#Setup)\n",
        "1. [Data](#Data)\n",
        "1. [Train](#Train)\n",
        "    1. Viewing run results\n",
        "    1. Simple parameter sweep\n",
        "    1. Viewing experiment results\n",
        "    1. Select the best model\n",
        "1. [Deploy](#Deploy)\n",
        "    1. Register the model\n",
        "    1. Create a scoring file\n",
        "    1. Create the environment configuration (yml file for Conda and pip packages)\n",
        "    1. Deploy the as web service on Azure Kubernetes Service (AKS)\n",
        "    1. Test the Web Service (run and HTTP mehtods)\n",
        "    1. Clean up\n",
        "\n",
        "\n",
        "---\n",
        "\n",
        "## Introduction\n",
        "Azure Machine Learning provides capabilities to control all aspects of model training and deployment directly from a notebook using the AML Python SDK.  In this notebook we will\n",
        "* connect to our AML Workspace\n",
        "* create an experiment that contains multiple runs with tracked metrics\n",
        "* choose the best model created across all runs\n",
        "* deploy that model as a service\n",
        "\n",
        "In the end we will have a model deployed as a web service which we can call from an HTTP endpoint"
      ],
      "metadata": {}
    },
    {
      "cell_type": "markdown",
      "source": [
        "---\n",
        "\n",
        "## Setup\n",
        "Create an Azure Machine Learning servcie in Azure, and launch the studio. \n",
        "\n",
        "Create a Workspace, a Compute Instance (VM) and a new Notebook running on that VM as a compute target.  \n",
        "\n",
        "This example was forked from https://github.com/Azure/MachineLearningNotebooks, and further developed to present an end-to-end example. \n",
        "\n",
        "For this notebook we need the Azure ML SDK and access to our workspace.  The following cell imports the SDK, checks the version, and accesses our already configured AzureML workspace. \n",
        "\n",
        "See more detail on [Git Integration](https://docs.microsoft.com/en-us/azure/machine-learning/concept-train-model-git-integration#:~:text=Azure%20Machine%20Learning%20provides%20a%20shared%20file%20system,work%20with%20Git%20via%20the%20Git%20CLI%20experience) if you need to upload this notebook in AML."
      ],
      "metadata": {}
    },
    {
      "cell_type": "code",
      "source": [
        "import azureml.core\n",
        "from azureml.core import Experiment, Workspace\n",
        "\n",
        "# Check core SDK version number\n",
        "print(\"This notebook was created using version 1.0.2 of the Azure ML SDK\")\n",
        "print(\"You are currently using version\", azureml.core.VERSION, \"of the Azure ML SDK\")\n",
        "print(\"\")\n",
        "\n",
        "\n",
        "ws = Workspace.from_config()\n",
        "print('Workspace name: ' + ws.name, \n",
        "      'Azure region: ' + ws.location, \n",
        "      'Subscription id: ' + ws.subscription_id, \n",
        "      'Resource group: ' + ws.resource_group, sep='\\n')"
      ],
      "outputs": [
        {
          "output_type": "stream",
          "name": "stdout",
          "text": [
            "This notebook was created using version 1.0.2 of the Azure ML SDK\n",
            "You are currently using version 1.19.0 of the Azure ML SDK\n",
            "\n",
            "Workspace name: wstw\n",
            "Azure region: eastus2\n",
            "Subscription id: 61489282-e75d-4996-b2ef-3126311e55e6\n",
            "Resource group: tw\n"
          ]
        }
      ],
      "execution_count": 28,
      "metadata": {
        "tags": [
          "install"
        ],
        "gather": {
          "logged": 1607888001832
        }
      }
    },
    {
      "cell_type": "markdown",
      "source": [
        "---\n",
        "\n",
        "## Data\n",
        "We will use the diabetes dataset for this experiement (https://aka.ms/diabetes-data). \n",
        "\n",
        "The dataset consists of 8 baseline variables for n=10000 diabetes patients: Pregnancies, PlasmaGlucose, DiastolicBloodPressure, TricepsThickness, SerumInsulin, BMI, DiabetesPedigree, and Age.\n",
        "\n",
        "The dataset has one dichotomous outcome variable: Diebetic."
      ],
      "metadata": {}
    },
    {
      "cell_type": "code",
      "source": [
        "from azureml.core import Dataset\r\n",
        "import pandas as pd\r\n",
        "from sklearn.model_selection import train_test_split\r\n",
        "\r\n",
        "# load the diabetes dataset from the same folder where this notebook is located\r\n",
        "print(\"Loading Diabetes Data from the CSV file...\")\r\n",
        "dataset = pd.read_csv('./diabetes.csv')\r\n",
        "\r\n",
        "# Separate features and labels\r\n",
        "X, y = dataset[['Pregnancies','PlasmaGlucose','DiastolicBloodPressure','TricepsThickness','SerumInsulin','BMI','DiabetesPedigree','Age']].values, dataset['Diabetic'].values\r\n",
        "# Split data into training set and test set (80% Training and 20% Testing)\r\n",
        "X_train, X_test, y_train, y_test = train_test_split(X, y, test_size=0.20, random_state=0)\r\n",
        "\r\n",
        "data = {\r\n",
        "    \"train\":{\"X\": X_train, \"y\": y_train},        \r\n",
        "    \"test\":{\"X\": X_test, \"y\": y_test}\r\n",
        "}\r\n",
        "\r\n",
        "print (\"Data contains\", len(data['train']['X']), \"training samples and\",len(data['test']['X']), \"test samples\")\r\n"
      ],
      "outputs": [
        {
          "output_type": "stream",
          "name": "stdout",
          "text": [
            "Loading Diabetes Data from the CSV file...\n",
            "Data contains 8000 training samples and 2000 test samples\n"
          ]
        }
      ],
      "execution_count": 29,
      "metadata": {
        "collapsed": true,
        "jupyter": {
          "source_hidden": false,
          "outputs_hidden": false
        },
        "nteract": {
          "transient": {
            "deleting": false
          }
        },
        "gather": {
          "logged": 1607888006241
        }
      }
    },
    {
      "cell_type": "markdown",
      "source": [
        "---\n",
        "## Train\n",
        "\n",
        "Let's use scikit-learn to train a simple Ridge regression model.  We use AML to record interesting information about the model in an Experiment.  An Experiment contains a series of trials called Runs.  During this trial we use AML in the following way:\n",
        "* We access an experiment from our AML workspace by name, which will be created if it doesn't exist\n",
        "* We use `start_logging` to create a new run in this experiment\n",
        "* We use `run.log()` to record a parameter, alpha, and an accuracy measure - the Mean Squared Error (MSE) to the run.  We will be able to review and compare these measures in the Azure Portal at a later time.\n",
        "* We store the resulting model in the **working** directory, which is automatically captured by AML when the run is complete.\n",
        "* We use `run.complete()` to indicate that the run is over and results can be captured and finalized"
      ],
      "metadata": {}
    },
    {
      "cell_type": "code",
      "source": [
        "from sklearn.linear_model import Ridge\n",
        "from sklearn.metrics import mean_squared_error\n",
        "import joblib\n",
        "\n",
        "# Get an experiment object from Azure Machine Learning\n",
        "experiment = Experiment(workspace=ws, name=\"train-diabetes-regression\")\n",
        "\n",
        "# Create a run object in the experiment\n",
        "run =  experiment.start_logging()\n",
        "# Log the algorithm parameter alpha to the run; where alpha is between 0 and 1\n",
        "run.log('alpha', 0.03)\n",
        "\n",
        "# Create, fit, and test the scikit-learn Ridge regression model\n",
        "regression_model = Ridge(alpha=0.03)\n",
        "regression_model.fit(data['train']['X'], data['train']['y'])\n",
        "preds = regression_model.predict(data['test']['X'])\n",
        "\n",
        "# Output the Mean Squared Error to the notebook and to the run\n",
        "print('Mean Squared Error is', mean_squared_error(data['test']['y'], preds))\n",
        "run.log('mse', mean_squared_error(data['test']['y'], preds))\n",
        "\n",
        "# Save the model to the working directory \n",
        "model_file_name = 'diabetesregressionmodel.pkl'\n",
        "\n",
        "joblib.dump(value = regression_model, filename = model_file_name)\n",
        "\n",
        "# upload the model file explicitly into artifacts \n",
        "run.upload_file(name = model_file_name, path_or_stream = model_file_name)\n",
        "\n",
        "# Complete the run\n",
        "run.complete()"
      ],
      "outputs": [
        {
          "output_type": "stream",
          "name": "stdout",
          "text": [
            "Mean Squared Error is 0.14922484786002663\n"
          ]
        }
      ],
      "execution_count": 30,
      "metadata": {
        "tags": [
          "local run",
          "outputs upload"
        ],
        "gather": {
          "logged": 1607888027161
        }
      }
    },
    {
      "cell_type": "markdown",
      "source": [
        "### Viewing run results\n",
        "Azure Machine Learning stores all the details about the run in the Azure cloud.  Let's access those details by retrieving a link to the run using the default run output.  Clicking on the resulting link will take you to an interactive page presenting all run information."
      ],
      "metadata": {}
    },
    {
      "cell_type": "code",
      "source": [
        "run"
      ],
      "outputs": [
        {
          "output_type": "execute_result",
          "execution_count": 31,
          "data": {
            "text/plain": "Run(Experiment: train-diabetes-regression,\nId: 0d6aa29a-702f-49ca-a6b2-882208bddb17,\nType: None,\nStatus: Running)",
            "text/html": "<table style=\"width:100%\"><tr><th>Experiment</th><th>Id</th><th>Type</th><th>Status</th><th>Details Page</th><th>Docs Page</th></tr><tr><td>train-diabetes-regression</td><td>0d6aa29a-702f-49ca-a6b2-882208bddb17</td><td></td><td>Running</td><td><a href=\"https://ml.azure.com/experiments/train-diabetes-regression/runs/0d6aa29a-702f-49ca-a6b2-882208bddb17?wsid=/subscriptions/61489282-e75d-4996-b2ef-3126311e55e6/resourcegroups/tw/workspaces/wstw\" target=\"_blank\" rel=\"noopener\">Link to Azure Machine Learning studio</a></td><td><a href=\"https://docs.microsoft.com/en-us/python/api/azureml-core/azureml.core.run.Run?view=azure-ml-py\" target=\"_blank\" rel=\"noopener\">Link to Documentation</a></td></tr></table>"
          },
          "metadata": {}
        }
      ],
      "execution_count": 31,
      "metadata": {
        "gather": {
          "logged": 1607888027462
        }
      }
    },
    {
      "cell_type": "markdown",
      "source": [
        "### Simple parameter sweep\n",
        "Now let's take the same concept from above and modify the **alpha** parameter.  For each value of alpha we will create a run that will store metrics and the resulting model.  In the end we can use the captured run history to determine which model was the best for us to deploy. \n",
        "\n",
        "Note that by using `with experiment.start_logging() as run` AML will automatically call `run.complete()` at the end of each loop.\n",
        "\n",
        "This example also uses the **tqdm** library to provide a thermometer feedback"
      ],
      "metadata": {}
    },
    {
      "cell_type": "code",
      "source": [
        "import numpy as np\n",
        "from tqdm import tqdm\n",
        "\n",
        "# list of numbers from 0 to 1.0 with a 0.10 interval\n",
        "alphas = np.arange(0.0, 1.0, 0.10)\n",
        "\n",
        "# try a bunch of alpha values in a Linear Regression (Ridge) model\n",
        "for alpha in tqdm(alphas):\n",
        "    # create a bunch of runs, each train a model with a different alpha value\n",
        "    with experiment.start_logging() as run:\n",
        "        # Use Ridge algorithm to build a regression model\n",
        "        regression_model = Ridge(alpha=alpha)\n",
        "        regression_model.fit(X=data[\"train\"][\"X\"], y=data[\"train\"][\"y\"])\n",
        "        preds = regression_model.predict(X=data[\"test\"][\"X\"])\n",
        "        mse = mean_squared_error(y_true=data[\"test\"][\"y\"], y_pred=preds)\n",
        "\n",
        "        # log alpha, mean_squared_error and feature names in run history\n",
        "        run.log(name=\"alpha\", value=alpha)\n",
        "        run.log(name=\"mse\", value=mse)\n",
        "\n",
        "        # Save the model to the outputs directory for capture\n",
        "        joblib.dump(value=regression_model, filename=model_file_name)\n"
      ],
      "outputs": [
        {
          "output_type": "stream",
          "name": "stderr",
          "text": [
            "100%|██████████| 10/10 [01:28<00:00,  8.84s/it]\n"
          ]
        }
      ],
      "execution_count": 32,
      "metadata": {
        "gather": {
          "logged": 1607888118419
        }
      }
    },
    {
      "cell_type": "markdown",
      "source": [
        "### Viewing experiment results\n",
        "Similar to viewing the run, we can also view the entire experiment.  The experiment report view in the Azure portal lets us view all the runs in a table, and also allows us to customize charts.  This way, we can see how the alpha parameter impacts the quality of the model"
      ],
      "metadata": {}
    },
    {
      "cell_type": "code",
      "source": [
        "# now let's take a look at the experiment in Azure portal.\n",
        "experiment"
      ],
      "outputs": [
        {
          "output_type": "execute_result",
          "execution_count": 33,
          "data": {
            "text/plain": "Experiment(Name: train-diabetes-regression,\nWorkspace: wstw)",
            "text/html": "<table style=\"width:100%\"><tr><th>Name</th><th>Workspace</th><th>Report Page</th><th>Docs Page</th></tr><tr><td>train-diabetes-regression</td><td>wstw</td><td><a href=\"https://ml.azure.com/experiments/train-diabetes-regression?wsid=/subscriptions/61489282-e75d-4996-b2ef-3126311e55e6/resourcegroups/tw/workspaces/wstw\" target=\"_blank\" rel=\"noopener\">Link to Azure Machine Learning studio</a></td><td><a href=\"https://docs.microsoft.com/en-us/python/api/azureml-core/azureml.core.experiment.Experiment?view=azure-ml-py\" target=\"_blank\" rel=\"noopener\">Link to Documentation</a></td></tr></table>"
          },
          "metadata": {}
        }
      ],
      "execution_count": 33,
      "metadata": {
        "gather": {
          "logged": 1607888357842
        }
      }
    },
    {
      "cell_type": "markdown",
      "source": [
        "### Select the best model \n",
        "Now that we've created many runs with different parameters, we need to determine which model is the best for deployment.  For this, we will iterate over the set of runs.  From each run we will take the *run id* using the `id` property, and examine the metrics by calling `run.get_metrics()`.  \n",
        "\n",
        "Since each run may be different, we do need to check if the run has the metric that we are looking for, in this case, **mse**.  To find the best run, we create a dictionary mapping the run id's to the metrics.\n",
        "\n",
        "Finally, we use the `tag` method to mark the best run to make it easier to find later. "
      ],
      "metadata": {}
    },
    {
      "cell_type": "code",
      "source": [
        "runs = {}\n",
        "run_metrics = {}\n",
        "\n",
        "# Create dictionaries containing the runs and the metrics for all runs containing the 'mse' metric\n",
        "for r in tqdm(experiment.get_runs()):\n",
        "    metrics = r.get_metrics()\n",
        "    if 'mse' in metrics.keys():\n",
        "        runs[r.id] = r\n",
        "        run_metrics[r.id] = metrics\n",
        "\n",
        "# Find the run with the best (lowest) mean squared error and display the id and metrics\n",
        "best_run_id = min(run_metrics, key = lambda k: run_metrics[k]['mse'])\n",
        "best_run = runs[best_run_id]\n",
        "print('Best run is:', best_run_id)\n",
        "print('Metrics:', run_metrics[best_run_id])\n",
        "\n",
        "# Tag the best run for identification later\n",
        "best_run.tag(\"Best Run\")"
      ],
      "outputs": [
        {
          "output_type": "stream",
          "name": "stderr",
          "text": [
            "55it [00:16,  3.25it/s]\n"
          ]
        },
        {
          "output_type": "stream",
          "name": "stdout",
          "text": [
            "Best run is: fe34e27d-a10e-42ed-8367-4c246969bcfe\n",
            "Metrics: {'alpha': 0.9, 'mse': 0.14922463540047534}\n"
          ]
        }
      ],
      "execution_count": 34,
      "metadata": {
        "gather": {
          "logged": 1607888378300
        }
      }
    },
    {
      "cell_type": "markdown",
      "source": [
        "---\n",
        "## Deploy\n",
        "Now that we have trained a set of models and identified the run containing the best model, we want to deploy the model for real time inference.  The process of deploying a model involves\n",
        "* registering a model in your workspace\n",
        "* creating a scoring file containing init and run methods\n",
        "* creating an environment settings file describing packages necessary for your scoring file\n",
        "* creating a deployment configuration (for AKS in this example)\n",
        "* deploying the model and packages as a web service on an AKS cluster"
      ],
      "metadata": {}
    },
    {
      "cell_type": "markdown",
      "source": [
        "### Register a model\n",
        "We have already identified which run contains the \"best model\" by our evaluation criteria.  Each run has a file structure associated with it that contains various files collected during the run.  Since a run can have many outputs we need to tell AML which file from those outputs represents the model that we want to use for our deployment.  We can use the `run.get_file_names()` method to list the files associated with the run, and then use the `run.register_model()` method to place the model in the workspace's model registry.\n",
        "\n",
        "When using `run.register_model()` we supply a `model_name` that is meaningful for our scenario and the `model_path` of the model relative to the run.  In this case, the model path is what is returned from `run.get_file_names()`"
      ],
      "metadata": {}
    },
    {
      "cell_type": "code",
      "source": [
        "from azureml.core.model import Model\n",
        "# View the files in the run\n",
        "for f in best_run.get_file_names():\n",
        "    print(f)\n",
        "    \n",
        "# Register the model with the workspace\n",
        "model_path = \"diabetesregressionmodel.pkl\"\n",
        "model_name = \"diabetesregressionmodel.pkl\"\n",
        "model = Model.register(model_path = model_path,\n",
        "                       model_name = model_name,\n",
        "                       tags = {'area': \"diabetes\", 'type': \"regression\"},\n",
        "                       description = \"Ridge regression model to predict diabetes\",\n",
        "                       workspace =ws)"
      ],
      "outputs": [
        {
          "output_type": "stream",
          "name": "stdout",
          "text": [
            "logs/user_log.txt\n",
            "Registering model diabetesregressionmodel.pkl\n"
          ]
        }
      ],
      "execution_count": 35,
      "metadata": {
        "tags": [
          "query history"
        ],
        "gather": {
          "logged": 1607888383381
        }
      }
    },
    {
      "cell_type": "markdown",
      "source": [
        "Once a model is registered, it is accessible from the list of models on the AML workspace.  If you register models with the same name multiple times, AML keeps a version history of those models for you.  The `Model.list()` lists all models in a workspace, and can be filtered by name, tags, or model properties.   "
      ],
      "metadata": {}
    },
    {
      "cell_type": "code",
      "source": [
        "# Find all models called \"diabetesmodel\" and display their version numbers\n",
        "from azureml.core.model import Model\n",
        "models = Model.list(ws, name=model_name)\n",
        "for m in models:\n",
        "    print(m.name, m.version)"
      ],
      "outputs": [
        {
          "output_type": "stream",
          "name": "stdout",
          "text": [
            "diabetesregressionmodel.pkl 6\n"
          ]
        }
      ],
      "execution_count": 36,
      "metadata": {
        "tags": [
          "register model from history"
        ],
        "gather": {
          "logged": 1607888386959
        }
      }
    },
    {
      "cell_type": "markdown",
      "source": [
        "### Create a scoring file"
      ],
      "metadata": {}
    },
    {
      "cell_type": "markdown",
      "source": [
        "Since your model file can essentially be anything you want it to be, you need to supply a scoring script that can load your model and then apply the model to new data. This script is your 'scoring file'. This scoring file is a python program containing, at a minimum, two methods init() and run(). The init() method is called once when your deployment is started so you can load your model and any other required objects. This method uses the get_model_path function to locate the registered model inside the docker container. The run() method is called interactively when the web service is called with one or more data samples to predict.\n",
        "\n",
        "Important: The schema decorators for pandas and numpy are required to implement the automatic swagger schema generation for input and output variables\n",
        "\n",
        "After a successful run of the this script, the score.py file be created in the working folder\n"
      ],
      "metadata": {}
    },
    {
      "cell_type": "code",
      "source": [
        "# upgrade azureml sdk and monitoring\r\n",
        "!pip install --upgrade azureml-sdk azureml-monitoring\r\n"
      ],
      "outputs": [
        {
          "output_type": "stream",
          "name": "stdout",
          "text": [
            "Requirement already up-to-date: azureml-sdk in /anaconda/envs/azureml_py36/lib/python3.6/site-packages (1.19.0)\n",
            "Requirement already up-to-date: azureml-monitoring in /anaconda/envs/azureml_py36/lib/python3.6/site-packages (0.1.0a21)\n",
            "Requirement already satisfied, skipping upgrade: azureml-pipeline~=1.19.0 in /anaconda/envs/azureml_py36/lib/python3.6/site-packages (from azureml-sdk) (1.19.0)\n",
            "Requirement already satisfied, skipping upgrade: azureml-core~=1.19.0 in /anaconda/envs/azureml_py36/lib/python3.6/site-packages (from azureml-sdk) (1.19.0)\n",
            "Requirement already satisfied, skipping upgrade: azureml-train~=1.19.0 in /anaconda/envs/azureml_py36/lib/python3.6/site-packages (from azureml-sdk) (1.19.0)\n",
            "Requirement already satisfied, skipping upgrade: azureml-train-automl-client~=1.19.0 in /anaconda/envs/azureml_py36/lib/python3.6/site-packages (from azureml-sdk) (1.19.0)\n",
            "Requirement already satisfied, skipping upgrade: azureml-dataset-runtime[fuse]~=1.19.0 in /anaconda/envs/azureml_py36/lib/python3.6/site-packages (from azureml-sdk) (1.19.0)\n",
            "Requirement already satisfied, skipping upgrade: azureml-telemetry in /anaconda/envs/azureml_py36/lib/python3.6/site-packages (from azureml-monitoring) (1.19.0)\n",
            "Requirement already satisfied, skipping upgrade: azureml-pipeline-steps~=1.19.0 in /anaconda/envs/azureml_py36/lib/python3.6/site-packages (from azureml-pipeline~=1.19.0->azureml-sdk) (1.19.0)\n",
            "Requirement already satisfied, skipping upgrade: azureml-pipeline-core~=1.19.0 in /anaconda/envs/azureml_py36/lib/python3.6/site-packages (from azureml-pipeline~=1.19.0->azureml-sdk) (1.19.0)\n",
            "Requirement already satisfied, skipping upgrade: adal>=1.2.0 in /anaconda/envs/azureml_py36/lib/python3.6/site-packages (from azureml-core~=1.19.0->azureml-sdk) (1.2.4)\n",
            "Requirement already satisfied, skipping upgrade: jsonpickle in /anaconda/envs/azureml_py36/lib/python3.6/site-packages (from azureml-core~=1.19.0->azureml-sdk) (1.4.1)\n",
            "Requirement already satisfied, skipping upgrade: pathspec in /anaconda/envs/azureml_py36/lib/python3.6/site-packages (from azureml-core~=1.19.0->azureml-sdk) (0.8.0)\n",
            "Requirement already satisfied, skipping upgrade: azure-common>=1.1.12 in /anaconda/envs/azureml_py36/lib/python3.6/site-packages (from azureml-core~=1.19.0->azureml-sdk) (1.1.25)\n",
            "Requirement already satisfied, skipping upgrade: SecretStorage in /anaconda/envs/azureml_py36/lib/python3.6/site-packages (from azureml-core~=1.19.0->azureml-sdk) (3.1.2)\n",
            "Requirement already satisfied, skipping upgrade: msrest>=0.5.1 in /anaconda/envs/azureml_py36/lib/python3.6/site-packages (from azureml-core~=1.19.0->azureml-sdk) (0.6.19)\n",
            "Requirement already satisfied, skipping upgrade: ruamel.yaml>=0.15.35 in /anaconda/envs/azureml_py36/lib/python3.6/site-packages (from azureml-core~=1.19.0->azureml-sdk) (0.16.12)\n",
            "Requirement already satisfied, skipping upgrade: backports.tempfile in /anaconda/envs/azureml_py36/lib/python3.6/site-packages (from azureml-core~=1.19.0->azureml-sdk) (1.0)\n",
            "Requirement already satisfied, skipping upgrade: ndg-httpsclient in /anaconda/envs/azureml_py36/lib/python3.6/site-packages (from azureml-core~=1.19.0->azureml-sdk) (0.5.1)\n",
            "Requirement already satisfied, skipping upgrade: msrestazure>=0.4.33 in /anaconda/envs/azureml_py36/lib/python3.6/site-packages (from azureml-core~=1.19.0->azureml-sdk) (0.6.4)\n",
            "Requirement already satisfied, skipping upgrade: azure-mgmt-containerregistry>=2.0.0 in /anaconda/envs/azureml_py36/lib/python3.6/site-packages (from azureml-core~=1.19.0->azureml-sdk) (2.8.0)\n",
            "Requirement already satisfied, skipping upgrade: azure-graphrbac<1.0.0,>=0.40.0 in /anaconda/envs/azureml_py36/lib/python3.6/site-packages (from azureml-core~=1.19.0->azureml-sdk) (0.61.1)\n",
            "Requirement already satisfied, skipping upgrade: docker in /anaconda/envs/azureml_py36/lib/python3.6/site-packages (from azureml-core~=1.19.0->azureml-sdk) (4.3.1)\n",
            "Requirement already satisfied, skipping upgrade: requests>=2.19.1 in /anaconda/envs/azureml_py36/lib/python3.6/site-packages (from azureml-core~=1.19.0->azureml-sdk) (2.24.0)\n",
            "Requirement already satisfied, skipping upgrade: azure-mgmt-resource<15.0.0,>=1.2.1 in /anaconda/envs/azureml_py36/lib/python3.6/site-packages (from azureml-core~=1.19.0->azureml-sdk) (10.2.0)\n",
            "Requirement already satisfied, skipping upgrade: contextlib2 in /anaconda/envs/azureml_py36/lib/python3.6/site-packages (from azureml-core~=1.19.0->azureml-sdk) (0.6.0.post1)\n",
            "Requirement already satisfied, skipping upgrade: pyopenssl<20.0.0 in /anaconda/envs/azureml_py36/lib/python3.6/site-packages (from azureml-core~=1.19.0->azureml-sdk) (19.1.0)\n",
            "Requirement already satisfied, skipping upgrade: urllib3>=1.23 in /anaconda/envs/azureml_py36/lib/python3.6/site-packages (from azureml-core~=1.19.0->azureml-sdk) (1.25.10)\n",
            "Requirement already satisfied, skipping upgrade: PyJWT<2.0.0 in /anaconda/envs/azureml_py36/lib/python3.6/site-packages (from azureml-core~=1.19.0->azureml-sdk) (1.7.1)\n",
            "Requirement already satisfied, skipping upgrade: azure-mgmt-keyvault<7.0.0,>=0.40.0 in /anaconda/envs/azureml_py36/lib/python3.6/site-packages (from azureml-core~=1.19.0->azureml-sdk) (2.2.0)\n",
            "Requirement already satisfied, skipping upgrade: cryptography!=1.9,!=2.0.*,!=2.1.*,!=2.2.* in /anaconda/envs/azureml_py36/lib/python3.6/site-packages (from azureml-core~=1.19.0->azureml-sdk) (3.1)\n",
            "Requirement already satisfied, skipping upgrade: azure-mgmt-authorization<1.0.0,>=0.40.0 in /anaconda/envs/azureml_py36/lib/python3.6/site-packages (from azureml-core~=1.19.0->azureml-sdk) (0.61.0)\n",
            "Requirement already satisfied, skipping upgrade: jmespath in /anaconda/envs/azureml_py36/lib/python3.6/site-packages (from azureml-core~=1.19.0->azureml-sdk) (0.10.0)\n",
            "Requirement already satisfied, skipping upgrade: azure-mgmt-storage<16.0.0,>=1.5.0 in /anaconda/envs/azureml_py36/lib/python3.6/site-packages (from azureml-core~=1.19.0->azureml-sdk) (11.2.0)\n",
            "Requirement already satisfied, skipping upgrade: python-dateutil>=2.7.3 in /anaconda/envs/azureml_py36/lib/python3.6/site-packages (from azureml-core~=1.19.0->azureml-sdk) (2.8.1)\n",
            "Requirement already satisfied, skipping upgrade: pytz in /anaconda/envs/azureml_py36/lib/python3.6/site-packages (from azureml-core~=1.19.0->azureml-sdk) (2020.1)\n",
            "Requirement already satisfied, skipping upgrade: azureml-train-core~=1.19.0 in /anaconda/envs/azureml_py36/lib/python3.6/site-packages (from azureml-train~=1.19.0->azureml-sdk) (1.19.0)\n",
            "Requirement already satisfied, skipping upgrade: azureml-automl-core~=1.19.0 in /anaconda/envs/azureml_py36/lib/python3.6/site-packages (from azureml-train-automl-client~=1.19.0->azureml-sdk) (1.19.0)\n",
            "Requirement already satisfied, skipping upgrade: pyarrow<2.0.0,>=0.17.0 in /anaconda/envs/azureml_py36/lib/python3.6/site-packages (from azureml-dataset-runtime[fuse]~=1.19.0->azureml-sdk) (1.0.1)\n",
            "Requirement already satisfied, skipping upgrade: azureml-dataprep<2.7.0a,>=2.6.0a in /anaconda/envs/azureml_py36/lib/python3.6/site-packages (from azureml-dataset-runtime[fuse]~=1.19.0->azureml-sdk) (2.6.2)\n",
            "Requirement already satisfied, skipping upgrade: fusepy<4.0.0,>=3.0.1; extra == \"fuse\" in /anaconda/envs/azureml_py36/lib/python3.6/site-packages (from azureml-dataset-runtime[fuse]~=1.19.0->azureml-sdk) (3.0.1)\n",
            "Requirement already satisfied, skipping upgrade: applicationinsights in /anaconda/envs/azureml_py36/lib/python3.6/site-packages (from azureml-telemetry->azureml-monitoring) (0.11.9)\n",
            "Requirement already satisfied, skipping upgrade: importlib-metadata in /anaconda/envs/azureml_py36/lib/python3.6/site-packages (from jsonpickle->azureml-core~=1.19.0->azureml-sdk) (1.7.0)\n",
            "Requirement already satisfied, skipping upgrade: jeepney>=0.4.2 in /anaconda/envs/azureml_py36/lib/python3.6/site-packages (from SecretStorage->azureml-core~=1.19.0->azureml-sdk) (0.4.3)\n",
            "Requirement already satisfied, skipping upgrade: isodate>=0.6.0 in /anaconda/envs/azureml_py36/lib/python3.6/site-packages (from msrest>=0.5.1->azureml-core~=1.19.0->azureml-sdk) (0.6.0)\n",
            "Requirement already satisfied, skipping upgrade: requests-oauthlib>=0.5.0 in /anaconda/envs/azureml_py36/lib/python3.6/site-packages (from msrest>=0.5.1->azureml-core~=1.19.0->azureml-sdk) (1.3.0)\n",
            "Requirement already satisfied, skipping upgrade: certifi>=2017.4.17 in /anaconda/envs/azureml_py36/lib/python3.6/site-packages (from msrest>=0.5.1->azureml-core~=1.19.0->azureml-sdk) (2020.6.20)\n",
            "Requirement already satisfied, skipping upgrade: ruamel.yaml.clib>=0.1.2; platform_python_implementation == \"CPython\" and python_version < \"3.9\" in /anaconda/envs/azureml_py36/lib/python3.6/site-packages (from ruamel.yaml>=0.15.35->azureml-core~=1.19.0->azureml-sdk) (0.2.2)\n",
            "Requirement already satisfied, skipping upgrade: backports.weakref in /anaconda/envs/azureml_py36/lib/python3.6/site-packages (from backports.tempfile->azureml-core~=1.19.0->azureml-sdk) (1.0.post1)\n",
            "Requirement already satisfied, skipping upgrade: pyasn1>=0.1.1 in /anaconda/envs/azureml_py36/lib/python3.6/site-packages (from ndg-httpsclient->azureml-core~=1.19.0->azureml-sdk) (0.4.8)\n",
            "Requirement already satisfied, skipping upgrade: six in /anaconda/envs/azureml_py36/lib/python3.6/site-packages (from msrestazure>=0.4.33->azureml-core~=1.19.0->azureml-sdk) (1.15.0)\n",
            "Requirement already satisfied, skipping upgrade: websocket-client>=0.32.0 in /anaconda/envs/azureml_py36/lib/python3.6/site-packages (from docker->azureml-core~=1.19.0->azureml-sdk) (0.57.0)\n",
            "Requirement already satisfied, skipping upgrade: idna<3,>=2.5 in /anaconda/envs/azureml_py36/lib/python3.6/site-packages (from requests>=2.19.1->azureml-core~=1.19.0->azureml-sdk) (2.10)\n",
            "Requirement already satisfied, skipping upgrade: chardet<4,>=3.0.2 in /anaconda/envs/azureml_py36/lib/python3.6/site-packages (from requests>=2.19.1->azureml-core~=1.19.0->azureml-sdk) (3.0.4)\n",
            "Requirement already satisfied, skipping upgrade: cffi!=1.11.3,>=1.8 in /anaconda/envs/azureml_py36/lib/python3.6/site-packages (from cryptography!=1.9,!=2.0.*,!=2.1.*,!=2.2.*->azureml-core~=1.19.0->azureml-sdk) (1.14.2)\n",
            "Requirement already satisfied, skipping upgrade: azureml-train-restclients-hyperdrive~=1.19.0 in /anaconda/envs/azureml_py36/lib/python3.6/site-packages (from azureml-train-core~=1.19.0->azureml-train~=1.19.0->azureml-sdk) (1.19.0)\n",
            "Requirement already satisfied, skipping upgrade: numpy>=1.14 in /anaconda/envs/azureml_py36/lib/python3.6/site-packages (from pyarrow<2.0.0,>=0.17.0->azureml-dataset-runtime[fuse]~=1.19.0->azureml-sdk) (1.18.5)\n",
            "Requirement already satisfied, skipping upgrade: azureml-dataprep-native<27.0.0,>=26.0.0 in /anaconda/envs/azureml_py36/lib/python3.6/site-packages (from azureml-dataprep<2.7.0a,>=2.6.0a->azureml-dataset-runtime[fuse]~=1.19.0->azureml-sdk) (26.0.0)\n",
            "Requirement already satisfied, skipping upgrade: azure-identity<1.5.0,>=1.2.0 in /anaconda/envs/azureml_py36/lib/python3.6/site-packages (from azureml-dataprep<2.7.0a,>=2.6.0a->azureml-dataset-runtime[fuse]~=1.19.0->azureml-sdk) (1.4.0)\n",
            "Requirement already satisfied, skipping upgrade: azureml-dataprep-rslex<1.5.0a,>=1.4.0dev0 in /anaconda/envs/azureml_py36/lib/python3.6/site-packages (from azureml-dataprep<2.7.0a,>=2.6.0a->azureml-dataset-runtime[fuse]~=1.19.0->azureml-sdk) (1.4.0)\n",
            "Requirement already satisfied, skipping upgrade: dotnetcore2<3.0.0,>=2.1.14 in /anaconda/envs/azureml_py36/lib/python3.6/site-packages (from azureml-dataprep<2.7.0a,>=2.6.0a->azureml-dataset-runtime[fuse]~=1.19.0->azureml-sdk) (2.1.14)\n",
            "Requirement already satisfied, skipping upgrade: cloudpickle<2.0.0,>=1.1.0 in /anaconda/envs/azureml_py36/lib/python3.6/site-packages (from azureml-dataprep<2.7.0a,>=2.6.0a->azureml-dataset-runtime[fuse]~=1.19.0->azureml-sdk) (1.3.0)\n",
            "Requirement already satisfied, skipping upgrade: zipp>=0.5 in /anaconda/envs/azureml_py36/lib/python3.6/site-packages (from importlib-metadata->jsonpickle->azureml-core~=1.19.0->azureml-sdk) (3.2.0)\n",
            "Requirement already satisfied, skipping upgrade: oauthlib>=3.0.0 in /anaconda/envs/azureml_py36/lib/python3.6/site-packages (from requests-oauthlib>=0.5.0->msrest>=0.5.1->azureml-core~=1.19.0->azureml-sdk) (3.1.0)\n",
            "Requirement already satisfied, skipping upgrade: pycparser in /anaconda/envs/azureml_py36/lib/python3.6/site-packages (from cffi!=1.11.3,>=1.8->cryptography!=1.9,!=2.0.*,!=2.1.*,!=2.2.*->azureml-core~=1.19.0->azureml-sdk) (2.20)\n",
            "Requirement already satisfied, skipping upgrade: msal-extensions~=0.2.2 in /anaconda/envs/azureml_py36/lib/python3.6/site-packages (from azure-identity<1.5.0,>=1.2.0->azureml-dataprep<2.7.0a,>=2.6.0a->azureml-dataset-runtime[fuse]~=1.19.0->azureml-sdk) (0.2.2)\n",
            "Requirement already satisfied, skipping upgrade: azure-core<2.0.0,>=1.0.0 in /anaconda/envs/azureml_py36/lib/python3.6/site-packages (from azure-identity<1.5.0,>=1.2.0->azureml-dataprep<2.7.0a,>=2.6.0a->azureml-dataset-runtime[fuse]~=1.19.0->azureml-sdk) (1.8.1)\n",
            "Requirement already satisfied, skipping upgrade: msal<2.0.0,>=1.3.0 in /anaconda/envs/azureml_py36/lib/python3.6/site-packages (from azure-identity<1.5.0,>=1.2.0->azureml-dataprep<2.7.0a,>=2.6.0a->azureml-dataset-runtime[fuse]~=1.19.0->azureml-sdk) (1.5.0)\n",
            "Requirement already satisfied, skipping upgrade: distro>=1.2.0 in /anaconda/envs/azureml_py36/lib/python3.6/site-packages (from dotnetcore2<3.0.0,>=2.1.14->azureml-dataprep<2.7.0a,>=2.6.0a->azureml-dataset-runtime[fuse]~=1.19.0->azureml-sdk) (1.5.0)\n",
            "Requirement already satisfied, skipping upgrade: portalocker~=1.0; platform_system != \"Windows\" in /anaconda/envs/azureml_py36/lib/python3.6/site-packages (from msal-extensions~=0.2.2->azure-identity<1.5.0,>=1.2.0->azureml-dataprep<2.7.0a,>=2.6.0a->azureml-dataset-runtime[fuse]~=1.19.0->azureml-sdk) (1.7.1)\n"
          ]
        }
      ],
      "execution_count": 37,
      "metadata": {
        "collapsed": true,
        "jupyter": {
          "source_hidden": false,
          "outputs_hidden": false
        },
        "nteract": {
          "transient": {
            "deleting": false
          }
        },
        "gather": {
          "logged": 1607888421876
        }
      }
    },
    {
      "cell_type": "code",
      "source": [
        "%%writefile score.py\n",
        "import json\n",
        "import pickle\n",
        "import numpy as np\n",
        "import pandas as pd\n",
        "import joblib\n",
        "from azureml.core.model import Model\n",
        "from azureml.monitoring import ModelDataCollector # for model data collection\n",
        "\n",
        "from inference_schema.schema_decorators import input_schema, output_schema\n",
        "from inference_schema.parameter_types.numpy_parameter_type import NumpyParameterType\n",
        "from inference_schema.parameter_types.pandas_parameter_type import PandasParameterType\n",
        "\n",
        "def init():\n",
        "    global model, inputs_datacollection, prediction_datacollection\n",
        "    # collect inputs data send to, and prediction data received from, the model\n",
        "    inputs_datacollection = ModelDataCollector(model_name, designation=\"inputs\", feature_names=[\"Pregnancies\", \"PlasmaGlucose\", \"DiastolicBloodPressure\", \"TricepsThickness\", \"SerumInsulin\", \"BMI\", \"DiabetesPedigree\", \"Age\"])\n",
        "    prediction_datacollection = ModelDataCollector(model_name, designation=\"prediction\", feature_names=[\"Diebetic\"])\n",
        "    model_path = Model.get_model_path('diabetesregressionmodel.pkl')\n",
        "    # deserialize the model file back into a sklearn model\n",
        "    model = joblib.load(model_path)\n",
        "\n",
        "input_sample = pd.DataFrame(data=[{\n",
        "            \"Pregnancies\": 0,\n",
        "            \"PlasmaGlucose\": 171,\n",
        "            \"DiastolicBloodPressure\": 80,\n",
        "            \"TricepsThickness\": 34,\n",
        "            \"SerumInsulin\": 23,\n",
        "            \"BMI\": 43.51,\n",
        "            \"DiabetesPedigree\": 1.21,\n",
        "            \"Age\": 21,\n",
        "            }])\n",
        "output_sample = np.array([0])\n",
        "\n",
        "@input_schema('data', PandasParameterType(input_sample))\n",
        "@output_schema(NumpyParameterType(output_sample))\n",
        "\n",
        "def run(data):\n",
        "    try:\n",
        "        result = model.predict(data)\n",
        "\n",
        "        # save the inputs and prediction data collection from this run\n",
        "        inputs_datacollection.collect(data) \n",
        "        prediction_datacollection.collect(result) \n",
        "\n",
        "        return result.tolist()\n",
        "    except Exception as e:\n",
        "        error = str(e)\n",
        "        return error"
      ],
      "outputs": [
        {
          "output_type": "stream",
          "name": "stdout",
          "text": [
            "Overwriting score.py\n"
          ]
        }
      ],
      "execution_count": 38,
      "metadata": {}
    },
    {
      "cell_type": "markdown",
      "source": [
        "### Create the environment settings \n",
        "\n",
        "The environment settings will also be exported into a yml file (myenv.yml) to verify the conda and pip packages.\n",
        "The yml file will be in the working folder for this deployment (but it is not needed - for verification only)\n",
        "\n",
        "This step will create the python environment with the required conda and pip packages/dependencies. And then, it will create the inference configuration that will build the Docker container based on the scoring file and the environment configuration. The Docker image is transparent and will be created and registered behind the scenes with the AzureML SDK."
      ],
      "metadata": {}
    },
    {
      "cell_type": "code",
      "source": [
        "from azureml.core.conda_dependencies import CondaDependencies\n",
        "from azureml.core.environment import Environment\n",
        "from azureml.core.model import InferenceConfig\n",
        "\n",
        "env = Environment('deploytocloudenv')\n",
        "env.python.conda_dependencies = CondaDependencies.create(conda_packages=['numpy','scikit-learn'],pip_packages=['azureml-defaults','azureml-monitoring','inference-schema[numpy-support]'])\n",
        "inference_config = InferenceConfig(entry_script=\"score.py\", environment=env)\n",
        "\n",
        "with open (\"myenv.yml\",\"w\") as f:\n",
        "   f.write(env.python.conda_dependencies.serialize_to_string())"
      ],
      "outputs": [],
      "execution_count": 39,
      "metadata": {
        "gather": {
          "logged": 1607888432778
        }
      }
    },
    {
      "cell_type": "markdown",
      "source": [
        "\n",
        "Verify the myenv.yml file in the working folder to ensure it contains the exact following configurations\n",
        "\n"
      ],
      "metadata": {}
    },
    {
      "cell_type": "code",
      "source": [
        "# DO NOT RUN THIS STEP - for verification only\n",
        "\n",
        "\n",
        "\n",
        "# Conda environment specification. The dependencies defined in this file will\n",
        "# be automatically provisioned for runs with userManagedDependencies=False.\n",
        "\n",
        "# Details about the Conda environment file format:\n",
        "# https://conda.io/docs/user-guide/tasks/manage-environments.html#create-env-file-manually\n",
        "\n",
        "name: project_environment\n",
        "dependencies:\n",
        "  # The python interpreter version.\n",
        "  # Currently Azure ML only supports 3.5.2 and later.\n",
        "- python=3.6.2\n",
        "\n",
        "- pip:\n",
        "  - azureml-defaults~=1.6.0\n",
        "  - azureml-monitoring\n",
        "  - inference-schema[numpy-support]\n",
        "- numpy\n",
        "- scikit-learn\n",
        "channels:\n",
        "- anaconda\n",
        "- conda-forge"
      ],
      "outputs": [],
      "execution_count": null,
      "metadata": {}
    },
    {
      "cell_type": "markdown",
      "source": [
        "### Provision the AKS Cluster\r\n",
        "This is a one time setup. You can reuse this cluster for multiple deployments after it has been created. If you delete the cluster or the resource group that contains it, then you would have to recreate it.\r\n",
        "\r\n",
        "This step will take a few minutes. If it fails, try again or create the AKS cluster in the studio"
      ],
      "metadata": {
        "nteract": {
          "transient": {
            "deleting": false
          }
        }
      }
    },
    {
      "cell_type": "code",
      "source": [
        "from azureml.core.compute import AksCompute, ComputeTarget\r\n",
        "from azureml.core.compute_target import ComputeTargetException\r\n",
        "\r\n",
        "# Choose a name for your AKS cluster\r\n",
        "aks_name = 'aks-cluster' \r\n",
        "\r\n",
        "# Verify that cluster does not exist already\r\n",
        "try:\r\n",
        "    aks_target = ComputeTarget(workspace=ws, name=aks_name)\r\n",
        "    print('Found existing cluster, use it.')\r\n",
        "except ComputeTargetException:\r\n",
        "    # Use the default configuration (can also provide parameters to customize)\r\n",
        "    prov_config = AksCompute.provisioning_configuration()\r\n",
        "\r\n",
        "    # Create the cluster\r\n",
        "    aks_target = ComputeTarget.create(workspace = ws, \r\n",
        "                                    name = aks_name, \r\n",
        "                                    provisioning_configuration = prov_config)\r\n",
        "\r\n",
        "if aks_target.get_status() != \"Succeeded\":\r\n",
        "    aks_target.wait_for_completion(show_output=True)"
      ],
      "outputs": [
        {
          "output_type": "stream",
          "name": "stdout",
          "text": [
            "Found existing cluster, use it.\n"
          ]
        }
      ],
      "execution_count": 40,
      "metadata": {
        "collapsed": true,
        "jupyter": {
          "source_hidden": false,
          "outputs_hidden": false
        },
        "nteract": {
          "transient": {
            "deleting": false
          }
        },
        "gather": {
          "logged": 1607888440424
        }
      }
    },
    {
      "cell_type": "markdown",
      "source": [
        "### Deploy a web service with the model to the AKS Cluster\n"
      ],
      "metadata": {}
    },
    {
      "cell_type": "code",
      "source": [
        "from azureml.core.webservice import AksWebservice\r\n",
        "\r\n",
        "# Set the web service configuration (using default here)\r\n",
        "# Data collecoitn is not enabled by default. Enable here\r\n",
        "# Application Insight is also not enabled by default. Enable here\r\n",
        "aks_config = AksWebservice.deploy_configuration(collect_model_data=True, enable_app_insights=True)\r\n",
        "\r\n",
        "# to disable any deploy configration \r\n",
        "# AksWebservice.update(collect_model_data=False)\r\n"
      ],
      "outputs": [],
      "execution_count": 41,
      "metadata": {
        "collapsed": true,
        "jupyter": {
          "source_hidden": false,
          "outputs_hidden": false
        },
        "nteract": {
          "transient": {
            "deleting": false
          }
        },
        "gather": {
          "logged": 1607888444290
        }
      }
    },
    {
      "cell_type": "code",
      "source": [
        "%%time\r\n",
        "import datetime\r\n",
        "\r\n",
        "aksservice_name ='aks-service'\r\n",
        "\r\n",
        "print(str(datetime.datetime.now()))\r\n",
        "# Create the webservice using all of the precreated configurations and our best model\r\n",
        "aksservice = Model.deploy(workspace=ws,\r\n",
        "                           name=aksservice_name,\r\n",
        "                           models=[model],\r\n",
        "                           inference_config=inference_config,\r\n",
        "                           deployment_config=aks_config,\r\n",
        "                           deployment_target=aks_target)\r\n",
        "\r\n",
        "# Wait for the service deployment to complete while displaying log output\r\n",
        "aksservice.wait_for_deployment(show_output = True)\r\n",
        "print(aksservice.state)\r\n",
        "print(aksservice.get_logs)"
      ],
      "outputs": [
        {
          "output_type": "stream",
          "name": "stdout",
          "text": [
            "2020-12-13 19:41:02.117546\n",
            "Tips: You can try get_logs(): https://aka.ms/debugimage#dockerlog or local deployment: https://aka.ms/debugimage#debug-locally to debug if deployment takes longer than 10 minutes.\n",
            "Running........\n",
            "Failed\n"
          ]
        },
        {
          "output_type": "stream",
          "name": "stderr",
          "text": [
            "ERROR - Service deployment polling reached non-successful terminal state, current service state: Failed\n",
            "Operation ID: 905b98e1-6957-4d32-8aeb-b6bed7fbbad1\n",
            "More information can be found using '.get_logs()'\n",
            "Error:\n",
            "{\n",
            "  \"code\": \"KubernetesDeploymentFailed\",\n",
            "  \"statusCode\": 400,\n",
            "  \"message\": \"Kubernetes Deployment failed\",\n",
            "  \"details\": [\n",
            "    {\n",
            "      \"code\": \"CrashLoopBackOff\",\n",
            "      \"message\": \"Your container application crashed. This may be caused by errors in your scoring file's init() function.\\nPlease check the logs for your container instance: aks-service. From the AML SDK, you can run print(service.get_logs()) if you have service object to fetch the logs. \\nYou can also try to run image 4fd3004bb6dc44a8ab11621ce638cf35.azurecr.io/azureml/azureml_449f0793b7bb420744de3c145bb8de26:latest locally. Please refer to https://aka.ms/debugimage#service-launch-fails for more information.\"\n",
            "    },\n",
            "    {\n",
            "      \"code\": \"DeploymentFailed\",\n",
            "      \"message\": \"Your container endpoint is not available. Please follow the steps to debug:\\n1. From the AML SDK, you can run print(service.get_logs()) if you have service object to fetch the logs. Please refer to https://aka.ms/debugimage#dockerlog for more information.\\n2. View the diagnostic events to check status of container, it may help you to debug the issue. [{\\\"InvolvedObject\\\":\\\"aks-service-57d4ccf9b8-jl4gd\\\",\\\"InvolvedKind\\\":\\\"Pod\\\",\\\"Type\\\":\\\"Normal\\\",\\\"Reason\\\":\\\"Scheduled\\\",\\\"Message\\\":\\\"Successfully assigned azureml-wstw/aks-service-57d4ccf9b8-jl4gd to aks-agentpool-24007314-1\\\",\\\"LastTimestamp\\\":\\\"2020-12-13T19:41:22Z\\\"},{\\\"InvolvedObject\\\":\\\"aks-service-57d4ccf9b8-jl4gd\\\",\\\"InvolvedKind\\\":\\\"Pod\\\",\\\"Type\\\":\\\"Normal\\\",\\\"Reason\\\":\\\"Pulled\\\",\\\"Message\\\":\\\"Container image \\\\\\\"mcr.microsoft.com/azureml/dependency-unpacker:20201117\\\\\\\" already present on machine\\\",\\\"LastTimestamp\\\":\\\"2020-12-13T19:41:23Z\\\"},{\\\"InvolvedObject\\\":\\\"aks-service-57d4ccf9b8-jl4gd\\\",\\\"InvolvedKind\\\":\\\"Pod\\\",\\\"Type\\\":\\\"Normal\\\",\\\"Reason\\\":\\\"Created\\\",\\\"Message\\\":\\\"Created container amlappinit\\\",\\\"LastTimestamp\\\":\\\"2020-12-13T19:41:24Z\\\"},{\\\"InvolvedObject\\\":\\\"aks-service-57d4ccf9b8-jl4gd\\\",\\\"InvolvedKind\\\":\\\"Pod\\\",\\\"Type\\\":\\\"Normal\\\",\\\"Reason\\\":\\\"Started\\\",\\\"Message\\\":\\\"Started container amlappinit\\\",\\\"LastTimestamp\\\":\\\"2020-12-13T19:41:24Z\\\"},{\\\"InvolvedObject\\\":\\\"aks-service-57d4ccf9b8-jl4gd\\\",\\\"InvolvedKind\\\":\\\"Pod\\\",\\\"Type\\\":\\\"Warning\\\",\\\"Reason\\\":\\\"Unhealthy\\\",\\\"Message\\\":\\\"Readiness probe failed: HTTP probe failed with statuscode: 502\\\",\\\"LastTimestamp\\\":\\\"2020-12-13T19:41:28Z\\\"},{\\\"InvolvedObject\\\":\\\"aks-service-57d4ccf9b8-jl4gd\\\",\\\"InvolvedKind\\\":\\\"Pod\\\",\\\"Type\\\":\\\"Normal\\\",\\\"Reason\\\":\\\"Pulled\\\",\\\"Message\\\":\\\"Container image \\\\\\\"4fd3004bb6dc44a8ab11621ce638cf35.azurecr.io/azureml/azureml_449f0793b7bb420744de3c145bb8de26\\\\\\\" already present on machine\\\",\\\"LastTimestamp\\\":\\\"2020-12-13T19:41:29Z\\\"},{\\\"InvolvedObject\\\":\\\"aks-service-57d4ccf9b8-jl4gd\\\",\\\"InvolvedKind\\\":\\\"Pod\\\",\\\"Type\\\":\\\"Normal\\\",\\\"Reason\\\":\\\"Created\\\",\\\"Message\\\":\\\"Created container aks-service\\\",\\\"LastTimestamp\\\":\\\"2020-12-13T19:41:29Z\\\"},{\\\"InvolvedObject\\\":\\\"aks-service-57d4ccf9b8-jl4gd\\\",\\\"InvolvedKind\\\":\\\"Pod\\\",\\\"Type\\\":\\\"Normal\\\",\\\"Reason\\\":\\\"Started\\\",\\\"Message\\\":\\\"Started container aks-service\\\",\\\"LastTimestamp\\\":\\\"2020-12-13T19:41:30Z\\\"},{\\\"InvolvedObject\\\":\\\"aks-service-57d4ccf9b8-jl4gd\\\",\\\"InvolvedKind\\\":\\\"Pod\\\",\\\"Type\\\":\\\"Warning\\\",\\\"Reason\\\":\\\"BackOff\\\",\\\"Message\\\":\\\"Back-off restarting failed container\\\",\\\"LastTimestamp\\\":\\\"2020-12-13T19:41:36Z\\\"}]\"\n",
            "    }\n",
            "  ]\n",
            "}\n",
            "\n"
          ]
        },
        {
          "output_type": "error",
          "ename": "WebserviceException",
          "evalue": "WebserviceException:\n\tMessage: Service deployment polling reached non-successful terminal state, current service state: Failed\nOperation ID: 905b98e1-6957-4d32-8aeb-b6bed7fbbad1\nMore information can be found using '.get_logs()'\nError:\n{\n  \"code\": \"KubernetesDeploymentFailed\",\n  \"statusCode\": 400,\n  \"message\": \"Kubernetes Deployment failed\",\n  \"details\": [\n    {\n      \"code\": \"CrashLoopBackOff\",\n      \"message\": \"Your container application crashed. This may be caused by errors in your scoring file's init() function.\\nPlease check the logs for your container instance: aks-service. From the AML SDK, you can run print(service.get_logs()) if you have service object to fetch the logs. \\nYou can also try to run image 4fd3004bb6dc44a8ab11621ce638cf35.azurecr.io/azureml/azureml_449f0793b7bb420744de3c145bb8de26:latest locally. Please refer to https://aka.ms/debugimage#service-launch-fails for more information.\"\n    },\n    {\n      \"code\": \"DeploymentFailed\",\n      \"message\": \"Your container endpoint is not available. Please follow the steps to debug:\\n1. From the AML SDK, you can run print(service.get_logs()) if you have service object to fetch the logs. Please refer to https://aka.ms/debugimage#dockerlog for more information.\\n2. View the diagnostic events to check status of container, it may help you to debug the issue. [{\\\"InvolvedObject\\\":\\\"aks-service-57d4ccf9b8-jl4gd\\\",\\\"InvolvedKind\\\":\\\"Pod\\\",\\\"Type\\\":\\\"Normal\\\",\\\"Reason\\\":\\\"Scheduled\\\",\\\"Message\\\":\\\"Successfully assigned azureml-wstw/aks-service-57d4ccf9b8-jl4gd to aks-agentpool-24007314-1\\\",\\\"LastTimestamp\\\":\\\"2020-12-13T19:41:22Z\\\"},{\\\"InvolvedObject\\\":\\\"aks-service-57d4ccf9b8-jl4gd\\\",\\\"InvolvedKind\\\":\\\"Pod\\\",\\\"Type\\\":\\\"Normal\\\",\\\"Reason\\\":\\\"Pulled\\\",\\\"Message\\\":\\\"Container image \\\\\\\"mcr.microsoft.com/azureml/dependency-unpacker:20201117\\\\\\\" already present on machine\\\",\\\"LastTimestamp\\\":\\\"2020-12-13T19:41:23Z\\\"},{\\\"InvolvedObject\\\":\\\"aks-service-57d4ccf9b8-jl4gd\\\",\\\"InvolvedKind\\\":\\\"Pod\\\",\\\"Type\\\":\\\"Normal\\\",\\\"Reason\\\":\\\"Created\\\",\\\"Message\\\":\\\"Created container amlappinit\\\",\\\"LastTimestamp\\\":\\\"2020-12-13T19:41:24Z\\\"},{\\\"InvolvedObject\\\":\\\"aks-service-57d4ccf9b8-jl4gd\\\",\\\"InvolvedKind\\\":\\\"Pod\\\",\\\"Type\\\":\\\"Normal\\\",\\\"Reason\\\":\\\"Started\\\",\\\"Message\\\":\\\"Started container amlappinit\\\",\\\"LastTimestamp\\\":\\\"2020-12-13T19:41:24Z\\\"},{\\\"InvolvedObject\\\":\\\"aks-service-57d4ccf9b8-jl4gd\\\",\\\"InvolvedKind\\\":\\\"Pod\\\",\\\"Type\\\":\\\"Warning\\\",\\\"Reason\\\":\\\"Unhealthy\\\",\\\"Message\\\":\\\"Readiness probe failed: HTTP probe failed with statuscode: 502\\\",\\\"LastTimestamp\\\":\\\"2020-12-13T19:41:28Z\\\"},{\\\"InvolvedObject\\\":\\\"aks-service-57d4ccf9b8-jl4gd\\\",\\\"InvolvedKind\\\":\\\"Pod\\\",\\\"Type\\\":\\\"Normal\\\",\\\"Reason\\\":\\\"Pulled\\\",\\\"Message\\\":\\\"Container image \\\\\\\"4fd3004bb6dc44a8ab11621ce638cf35.azurecr.io/azureml/azureml_449f0793b7bb420744de3c145bb8de26\\\\\\\" already present on machine\\\",\\\"LastTimestamp\\\":\\\"2020-12-13T19:41:29Z\\\"},{\\\"InvolvedObject\\\":\\\"aks-service-57d4ccf9b8-jl4gd\\\",\\\"InvolvedKind\\\":\\\"Pod\\\",\\\"Type\\\":\\\"Normal\\\",\\\"Reason\\\":\\\"Created\\\",\\\"Message\\\":\\\"Created container aks-service\\\",\\\"LastTimestamp\\\":\\\"2020-12-13T19:41:29Z\\\"},{\\\"InvolvedObject\\\":\\\"aks-service-57d4ccf9b8-jl4gd\\\",\\\"InvolvedKind\\\":\\\"Pod\\\",\\\"Type\\\":\\\"Normal\\\",\\\"Reason\\\":\\\"Started\\\",\\\"Message\\\":\\\"Started container aks-service\\\",\\\"LastTimestamp\\\":\\\"2020-12-13T19:41:30Z\\\"},{\\\"InvolvedObject\\\":\\\"aks-service-57d4ccf9b8-jl4gd\\\",\\\"InvolvedKind\\\":\\\"Pod\\\",\\\"Type\\\":\\\"Warning\\\",\\\"Reason\\\":\\\"BackOff\\\",\\\"Message\\\":\\\"Back-off restarting failed container\\\",\\\"LastTimestamp\\\":\\\"2020-12-13T19:41:36Z\\\"}]\"\n    }\n  ]\n}\n\tInnerException None\n\tErrorResponse \n{\n    \"error\": {\n        \"message\": \"Service deployment polling reached non-successful terminal state, current service state: Failed\\nOperation ID: 905b98e1-6957-4d32-8aeb-b6bed7fbbad1\\nMore information can be found using '.get_logs()'\\nError:\\n{\\n  \\\"code\\\": \\\"KubernetesDeploymentFailed\\\",\\n  \\\"statusCode\\\": 400,\\n  \\\"message\\\": \\\"Kubernetes Deployment failed\\\",\\n  \\\"details\\\": [\\n    {\\n      \\\"code\\\": \\\"CrashLoopBackOff\\\",\\n      \\\"message\\\": \\\"Your container application crashed. This may be caused by errors in your scoring file's init() function.\\\\nPlease check the logs for your container instance: aks-service. From the AML SDK, you can run print(service.get_logs()) if you have service object to fetch the logs. \\\\nYou can also try to run image 4fd3004bb6dc44a8ab11621ce638cf35.azurecr.io/azureml/azureml_449f0793b7bb420744de3c145bb8de26:latest locally. Please refer to https://aka.ms/debugimage#service-launch-fails for more information.\\\"\\n    },\\n    {\\n      \\\"code\\\": \\\"DeploymentFailed\\\",\\n      \\\"message\\\": \\\"Your container endpoint is not available. Please follow the steps to debug:\\\\n1. From the AML SDK, you can run print(service.get_logs()) if you have service object to fetch the logs. Please refer to https://aka.ms/debugimage#dockerlog for more information.\\\\n2. View the diagnostic events to check status of container, it may help you to debug the issue. [{\\\\\\\"InvolvedObject\\\\\\\":\\\\\\\"aks-service-57d4ccf9b8-jl4gd\\\\\\\",\\\\\\\"InvolvedKind\\\\\\\":\\\\\\\"Pod\\\\\\\",\\\\\\\"Type\\\\\\\":\\\\\\\"Normal\\\\\\\",\\\\\\\"Reason\\\\\\\":\\\\\\\"Scheduled\\\\\\\",\\\\\\\"Message\\\\\\\":\\\\\\\"Successfully assigned azureml-wstw/aks-service-57d4ccf9b8-jl4gd to aks-agentpool-24007314-1\\\\\\\",\\\\\\\"LastTimestamp\\\\\\\":\\\\\\\"2020-12-13T19:41:22Z\\\\\\\"},{\\\\\\\"InvolvedObject\\\\\\\":\\\\\\\"aks-service-57d4ccf9b8-jl4gd\\\\\\\",\\\\\\\"InvolvedKind\\\\\\\":\\\\\\\"Pod\\\\\\\",\\\\\\\"Type\\\\\\\":\\\\\\\"Normal\\\\\\\",\\\\\\\"Reason\\\\\\\":\\\\\\\"Pulled\\\\\\\",\\\\\\\"Message\\\\\\\":\\\\\\\"Container image \\\\\\\\\\\\\\\"mcr.microsoft.com/azureml/dependency-unpacker:20201117\\\\\\\\\\\\\\\" already present on machine\\\\\\\",\\\\\\\"LastTimestamp\\\\\\\":\\\\\\\"2020-12-13T19:41:23Z\\\\\\\"},{\\\\\\\"InvolvedObject\\\\\\\":\\\\\\\"aks-service-57d4ccf9b8-jl4gd\\\\\\\",\\\\\\\"InvolvedKind\\\\\\\":\\\\\\\"Pod\\\\\\\",\\\\\\\"Type\\\\\\\":\\\\\\\"Normal\\\\\\\",\\\\\\\"Reason\\\\\\\":\\\\\\\"Created\\\\\\\",\\\\\\\"Message\\\\\\\":\\\\\\\"Created container amlappinit\\\\\\\",\\\\\\\"LastTimestamp\\\\\\\":\\\\\\\"2020-12-13T19:41:24Z\\\\\\\"},{\\\\\\\"InvolvedObject\\\\\\\":\\\\\\\"aks-service-57d4ccf9b8-jl4gd\\\\\\\",\\\\\\\"InvolvedKind\\\\\\\":\\\\\\\"Pod\\\\\\\",\\\\\\\"Type\\\\\\\":\\\\\\\"Normal\\\\\\\",\\\\\\\"Reason\\\\\\\":\\\\\\\"Started\\\\\\\",\\\\\\\"Message\\\\\\\":\\\\\\\"Started container amlappinit\\\\\\\",\\\\\\\"LastTimestamp\\\\\\\":\\\\\\\"2020-12-13T19:41:24Z\\\\\\\"},{\\\\\\\"InvolvedObject\\\\\\\":\\\\\\\"aks-service-57d4ccf9b8-jl4gd\\\\\\\",\\\\\\\"InvolvedKind\\\\\\\":\\\\\\\"Pod\\\\\\\",\\\\\\\"Type\\\\\\\":\\\\\\\"Warning\\\\\\\",\\\\\\\"Reason\\\\\\\":\\\\\\\"Unhealthy\\\\\\\",\\\\\\\"Message\\\\\\\":\\\\\\\"Readiness probe failed: HTTP probe failed with statuscode: 502\\\\\\\",\\\\\\\"LastTimestamp\\\\\\\":\\\\\\\"2020-12-13T19:41:28Z\\\\\\\"},{\\\\\\\"InvolvedObject\\\\\\\":\\\\\\\"aks-service-57d4ccf9b8-jl4gd\\\\\\\",\\\\\\\"InvolvedKind\\\\\\\":\\\\\\\"Pod\\\\\\\",\\\\\\\"Type\\\\\\\":\\\\\\\"Normal\\\\\\\",\\\\\\\"Reason\\\\\\\":\\\\\\\"Pulled\\\\\\\",\\\\\\\"Message\\\\\\\":\\\\\\\"Container image \\\\\\\\\\\\\\\"4fd3004bb6dc44a8ab11621ce638cf35.azurecr.io/azureml/azureml_449f0793b7bb420744de3c145bb8de26\\\\\\\\\\\\\\\" already present on machine\\\\\\\",\\\\\\\"LastTimestamp\\\\\\\":\\\\\\\"2020-12-13T19:41:29Z\\\\\\\"},{\\\\\\\"InvolvedObject\\\\\\\":\\\\\\\"aks-service-57d4ccf9b8-jl4gd\\\\\\\",\\\\\\\"InvolvedKind\\\\\\\":\\\\\\\"Pod\\\\\\\",\\\\\\\"Type\\\\\\\":\\\\\\\"Normal\\\\\\\",\\\\\\\"Reason\\\\\\\":\\\\\\\"Created\\\\\\\",\\\\\\\"Message\\\\\\\":\\\\\\\"Created container aks-service\\\\\\\",\\\\\\\"LastTimestamp\\\\\\\":\\\\\\\"2020-12-13T19:41:29Z\\\\\\\"},{\\\\\\\"InvolvedObject\\\\\\\":\\\\\\\"aks-service-57d4ccf9b8-jl4gd\\\\\\\",\\\\\\\"InvolvedKind\\\\\\\":\\\\\\\"Pod\\\\\\\",\\\\\\\"Type\\\\\\\":\\\\\\\"Normal\\\\\\\",\\\\\\\"Reason\\\\\\\":\\\\\\\"Started\\\\\\\",\\\\\\\"Message\\\\\\\":\\\\\\\"Started container aks-service\\\\\\\",\\\\\\\"LastTimestamp\\\\\\\":\\\\\\\"2020-12-13T19:41:30Z\\\\\\\"},{\\\\\\\"InvolvedObject\\\\\\\":\\\\\\\"aks-service-57d4ccf9b8-jl4gd\\\\\\\",\\\\\\\"InvolvedKind\\\\\\\":\\\\\\\"Pod\\\\\\\",\\\\\\\"Type\\\\\\\":\\\\\\\"Warning\\\\\\\",\\\\\\\"Reason\\\\\\\":\\\\\\\"BackOff\\\\\\\",\\\\\\\"Message\\\\\\\":\\\\\\\"Back-off restarting failed container\\\\\\\",\\\\\\\"LastTimestamp\\\\\\\":\\\\\\\"2020-12-13T19:41:36Z\\\\\\\"}]\\\"\\n    }\\n  ]\\n}\"\n    }\n}",
          "traceback": [
            "\u001b[0;31m---------------------------------------------------------------------------\u001b[0m",
            "\u001b[0;31mWebserviceException\u001b[0m                       Traceback (most recent call last)",
            "\u001b[0;32m<timed exec>\u001b[0m in \u001b[0;36m<module>\u001b[0;34m\u001b[0m\n",
            "\u001b[0;32m/anaconda/envs/azureml_py36/lib/python3.6/site-packages/azureml/core/webservice/webservice.py\u001b[0m in \u001b[0;36mwait_for_deployment\u001b[0;34m(self, show_output, timeout_sec)\u001b[0m\n\u001b[1;32m    913\u001b[0m                                           \u001b[0;34m'Error:\\n'\u001b[0m\u001b[0;34m\u001b[0m\u001b[0;34m\u001b[0m\u001b[0m\n\u001b[1;32m    914\u001b[0m                                           '{}'.format(self.state, self._operation_endpoint.split('/')[-1],\n\u001b[0;32m--> 915\u001b[0;31m                                                       logs_response, error_response), logger=module_logger)\n\u001b[0m\u001b[1;32m    916\u001b[0m             print('{} service creation operation finished, operation \"{}\"'.format(self._webservice_type,\n\u001b[1;32m    917\u001b[0m                                                                                   operation_state))\n",
            "\u001b[0;31mWebserviceException\u001b[0m: WebserviceException:\n\tMessage: Service deployment polling reached non-successful terminal state, current service state: Failed\nOperation ID: 905b98e1-6957-4d32-8aeb-b6bed7fbbad1\nMore information can be found using '.get_logs()'\nError:\n{\n  \"code\": \"KubernetesDeploymentFailed\",\n  \"statusCode\": 400,\n  \"message\": \"Kubernetes Deployment failed\",\n  \"details\": [\n    {\n      \"code\": \"CrashLoopBackOff\",\n      \"message\": \"Your container application crashed. This may be caused by errors in your scoring file's init() function.\\nPlease check the logs for your container instance: aks-service. From the AML SDK, you can run print(service.get_logs()) if you have service object to fetch the logs. \\nYou can also try to run image 4fd3004bb6dc44a8ab11621ce638cf35.azurecr.io/azureml/azureml_449f0793b7bb420744de3c145bb8de26:latest locally. Please refer to https://aka.ms/debugimage#service-launch-fails for more information.\"\n    },\n    {\n      \"code\": \"DeploymentFailed\",\n      \"message\": \"Your container endpoint is not available. Please follow the steps to debug:\\n1. From the AML SDK, you can run print(service.get_logs()) if you have service object to fetch the logs. Please refer to https://aka.ms/debugimage#dockerlog for more information.\\n2. View the diagnostic events to check status of container, it may help you to debug the issue. [{\\\"InvolvedObject\\\":\\\"aks-service-57d4ccf9b8-jl4gd\\\",\\\"InvolvedKind\\\":\\\"Pod\\\",\\\"Type\\\":\\\"Normal\\\",\\\"Reason\\\":\\\"Scheduled\\\",\\\"Message\\\":\\\"Successfully assigned azureml-wstw/aks-service-57d4ccf9b8-jl4gd to aks-agentpool-24007314-1\\\",\\\"LastTimestamp\\\":\\\"2020-12-13T19:41:22Z\\\"},{\\\"InvolvedObject\\\":\\\"aks-service-57d4ccf9b8-jl4gd\\\",\\\"InvolvedKind\\\":\\\"Pod\\\",\\\"Type\\\":\\\"Normal\\\",\\\"Reason\\\":\\\"Pulled\\\",\\\"Message\\\":\\\"Container image \\\\\\\"mcr.microsoft.com/azureml/dependency-unpacker:20201117\\\\\\\" already present on machine\\\",\\\"LastTimestamp\\\":\\\"2020-12-13T19:41:23Z\\\"},{\\\"InvolvedObject\\\":\\\"aks-service-57d4ccf9b8-jl4gd\\\",\\\"InvolvedKind\\\":\\\"Pod\\\",\\\"Type\\\":\\\"Normal\\\",\\\"Reason\\\":\\\"Created\\\",\\\"Message\\\":\\\"Created container amlappinit\\\",\\\"LastTimestamp\\\":\\\"2020-12-13T19:41:24Z\\\"},{\\\"InvolvedObject\\\":\\\"aks-service-57d4ccf9b8-jl4gd\\\",\\\"InvolvedKind\\\":\\\"Pod\\\",\\\"Type\\\":\\\"Normal\\\",\\\"Reason\\\":\\\"Started\\\",\\\"Message\\\":\\\"Started container amlappinit\\\",\\\"LastTimestamp\\\":\\\"2020-12-13T19:41:24Z\\\"},{\\\"InvolvedObject\\\":\\\"aks-service-57d4ccf9b8-jl4gd\\\",\\\"InvolvedKind\\\":\\\"Pod\\\",\\\"Type\\\":\\\"Warning\\\",\\\"Reason\\\":\\\"Unhealthy\\\",\\\"Message\\\":\\\"Readiness probe failed: HTTP probe failed with statuscode: 502\\\",\\\"LastTimestamp\\\":\\\"2020-12-13T19:41:28Z\\\"},{\\\"InvolvedObject\\\":\\\"aks-service-57d4ccf9b8-jl4gd\\\",\\\"InvolvedKind\\\":\\\"Pod\\\",\\\"Type\\\":\\\"Normal\\\",\\\"Reason\\\":\\\"Pulled\\\",\\\"Message\\\":\\\"Container image \\\\\\\"4fd3004bb6dc44a8ab11621ce638cf35.azurecr.io/azureml/azureml_449f0793b7bb420744de3c145bb8de26\\\\\\\" already present on machine\\\",\\\"LastTimestamp\\\":\\\"2020-12-13T19:41:29Z\\\"},{\\\"InvolvedObject\\\":\\\"aks-service-57d4ccf9b8-jl4gd\\\",\\\"InvolvedKind\\\":\\\"Pod\\\",\\\"Type\\\":\\\"Normal\\\",\\\"Reason\\\":\\\"Created\\\",\\\"Message\\\":\\\"Created container aks-service\\\",\\\"LastTimestamp\\\":\\\"2020-12-13T19:41:29Z\\\"},{\\\"InvolvedObject\\\":\\\"aks-service-57d4ccf9b8-jl4gd\\\",\\\"InvolvedKind\\\":\\\"Pod\\\",\\\"Type\\\":\\\"Normal\\\",\\\"Reason\\\":\\\"Started\\\",\\\"Message\\\":\\\"Started container aks-service\\\",\\\"LastTimestamp\\\":\\\"2020-12-13T19:41:30Z\\\"},{\\\"InvolvedObject\\\":\\\"aks-service-57d4ccf9b8-jl4gd\\\",\\\"InvolvedKind\\\":\\\"Pod\\\",\\\"Type\\\":\\\"Warning\\\",\\\"Reason\\\":\\\"BackOff\\\",\\\"Message\\\":\\\"Back-off restarting failed container\\\",\\\"LastTimestamp\\\":\\\"2020-12-13T19:41:36Z\\\"}]\"\n    }\n  ]\n}\n\tInnerException None\n\tErrorResponse \n{\n    \"error\": {\n        \"message\": \"Service deployment polling reached non-successful terminal state, current service state: Failed\\nOperation ID: 905b98e1-6957-4d32-8aeb-b6bed7fbbad1\\nMore information can be found using '.get_logs()'\\nError:\\n{\\n  \\\"code\\\": \\\"KubernetesDeploymentFailed\\\",\\n  \\\"statusCode\\\": 400,\\n  \\\"message\\\": \\\"Kubernetes Deployment failed\\\",\\n  \\\"details\\\": [\\n    {\\n      \\\"code\\\": \\\"CrashLoopBackOff\\\",\\n      \\\"message\\\": \\\"Your container application crashed. This may be caused by errors in your scoring file's init() function.\\\\nPlease check the logs for your container instance: aks-service. From the AML SDK, you can run print(service.get_logs()) if you have service object to fetch the logs. \\\\nYou can also try to run image 4fd3004bb6dc44a8ab11621ce638cf35.azurecr.io/azureml/azureml_449f0793b7bb420744de3c145bb8de26:latest locally. Please refer to https://aka.ms/debugimage#service-launch-fails for more information.\\\"\\n    },\\n    {\\n      \\\"code\\\": \\\"DeploymentFailed\\\",\\n      \\\"message\\\": \\\"Your container endpoint is not available. Please follow the steps to debug:\\\\n1. From the AML SDK, you can run print(service.get_logs()) if you have service object to fetch the logs. Please refer to https://aka.ms/debugimage#dockerlog for more information.\\\\n2. View the diagnostic events to check status of container, it may help you to debug the issue. [{\\\\\\\"InvolvedObject\\\\\\\":\\\\\\\"aks-service-57d4ccf9b8-jl4gd\\\\\\\",\\\\\\\"InvolvedKind\\\\\\\":\\\\\\\"Pod\\\\\\\",\\\\\\\"Type\\\\\\\":\\\\\\\"Normal\\\\\\\",\\\\\\\"Reason\\\\\\\":\\\\\\\"Scheduled\\\\\\\",\\\\\\\"Message\\\\\\\":\\\\\\\"Successfully assigned azureml-wstw/aks-service-57d4ccf9b8-jl4gd to aks-agentpool-24007314-1\\\\\\\",\\\\\\\"LastTimestamp\\\\\\\":\\\\\\\"2020-12-13T19:41:22Z\\\\\\\"},{\\\\\\\"InvolvedObject\\\\\\\":\\\\\\\"aks-service-57d4ccf9b8-jl4gd\\\\\\\",\\\\\\\"InvolvedKind\\\\\\\":\\\\\\\"Pod\\\\\\\",\\\\\\\"Type\\\\\\\":\\\\\\\"Normal\\\\\\\",\\\\\\\"Reason\\\\\\\":\\\\\\\"Pulled\\\\\\\",\\\\\\\"Message\\\\\\\":\\\\\\\"Container image \\\\\\\\\\\\\\\"mcr.microsoft.com/azureml/dependency-unpacker:20201117\\\\\\\\\\\\\\\" already present on machine\\\\\\\",\\\\\\\"LastTimestamp\\\\\\\":\\\\\\\"2020-12-13T19:41:23Z\\\\\\\"},{\\\\\\\"InvolvedObject\\\\\\\":\\\\\\\"aks-service-57d4ccf9b8-jl4gd\\\\\\\",\\\\\\\"InvolvedKind\\\\\\\":\\\\\\\"Pod\\\\\\\",\\\\\\\"Type\\\\\\\":\\\\\\\"Normal\\\\\\\",\\\\\\\"Reason\\\\\\\":\\\\\\\"Created\\\\\\\",\\\\\\\"Message\\\\\\\":\\\\\\\"Created container amlappinit\\\\\\\",\\\\\\\"LastTimestamp\\\\\\\":\\\\\\\"2020-12-13T19:41:24Z\\\\\\\"},{\\\\\\\"InvolvedObject\\\\\\\":\\\\\\\"aks-service-57d4ccf9b8-jl4gd\\\\\\\",\\\\\\\"InvolvedKind\\\\\\\":\\\\\\\"Pod\\\\\\\",\\\\\\\"Type\\\\\\\":\\\\\\\"Normal\\\\\\\",\\\\\\\"Reason\\\\\\\":\\\\\\\"Started\\\\\\\",\\\\\\\"Message\\\\\\\":\\\\\\\"Started container amlappinit\\\\\\\",\\\\\\\"LastTimestamp\\\\\\\":\\\\\\\"2020-12-13T19:41:24Z\\\\\\\"},{\\\\\\\"InvolvedObject\\\\\\\":\\\\\\\"aks-service-57d4ccf9b8-jl4gd\\\\\\\",\\\\\\\"InvolvedKind\\\\\\\":\\\\\\\"Pod\\\\\\\",\\\\\\\"Type\\\\\\\":\\\\\\\"Warning\\\\\\\",\\\\\\\"Reason\\\\\\\":\\\\\\\"Unhealthy\\\\\\\",\\\\\\\"Message\\\\\\\":\\\\\\\"Readiness probe failed: HTTP probe failed with statuscode: 502\\\\\\\",\\\\\\\"LastTimestamp\\\\\\\":\\\\\\\"2020-12-13T19:41:28Z\\\\\\\"},{\\\\\\\"InvolvedObject\\\\\\\":\\\\\\\"aks-service-57d4ccf9b8-jl4gd\\\\\\\",\\\\\\\"InvolvedKind\\\\\\\":\\\\\\\"Pod\\\\\\\",\\\\\\\"Type\\\\\\\":\\\\\\\"Normal\\\\\\\",\\\\\\\"Reason\\\\\\\":\\\\\\\"Pulled\\\\\\\",\\\\\\\"Message\\\\\\\":\\\\\\\"Container image \\\\\\\\\\\\\\\"4fd3004bb6dc44a8ab11621ce638cf35.azurecr.io/azureml/azureml_449f0793b7bb420744de3c145bb8de26\\\\\\\\\\\\\\\" already present on machine\\\\\\\",\\\\\\\"LastTimestamp\\\\\\\":\\\\\\\"2020-12-13T19:41:29Z\\\\\\\"},{\\\\\\\"InvolvedObject\\\\\\\":\\\\\\\"aks-service-57d4ccf9b8-jl4gd\\\\\\\",\\\\\\\"InvolvedKind\\\\\\\":\\\\\\\"Pod\\\\\\\",\\\\\\\"Type\\\\\\\":\\\\\\\"Normal\\\\\\\",\\\\\\\"Reason\\\\\\\":\\\\\\\"Created\\\\\\\",\\\\\\\"Message\\\\\\\":\\\\\\\"Created container aks-service\\\\\\\",\\\\\\\"LastTimestamp\\\\\\\":\\\\\\\"2020-12-13T19:41:29Z\\\\\\\"},{\\\\\\\"InvolvedObject\\\\\\\":\\\\\\\"aks-service-57d4ccf9b8-jl4gd\\\\\\\",\\\\\\\"InvolvedKind\\\\\\\":\\\\\\\"Pod\\\\\\\",\\\\\\\"Type\\\\\\\":\\\\\\\"Normal\\\\\\\",\\\\\\\"Reason\\\\\\\":\\\\\\\"Started\\\\\\\",\\\\\\\"Message\\\\\\\":\\\\\\\"Started container aks-service\\\\\\\",\\\\\\\"LastTimestamp\\\\\\\":\\\\\\\"2020-12-13T19:41:30Z\\\\\\\"},{\\\\\\\"InvolvedObject\\\\\\\":\\\\\\\"aks-service-57d4ccf9b8-jl4gd\\\\\\\",\\\\\\\"InvolvedKind\\\\\\\":\\\\\\\"Pod\\\\\\\",\\\\\\\"Type\\\\\\\":\\\\\\\"Warning\\\\\\\",\\\\\\\"Reason\\\\\\\":\\\\\\\"BackOff\\\\\\\",\\\\\\\"Message\\\\\\\":\\\\\\\"Back-off restarting failed container\\\\\\\",\\\\\\\"LastTimestamp\\\\\\\":\\\\\\\"2020-12-13T19:41:36Z\\\\\\\"}]\\\"\\n    }\\n  ]\\n}\"\n    }\n}"
          ]
        }
      ],
      "execution_count": 42,
      "metadata": {
        "collapsed": true,
        "jupyter": {
          "source_hidden": false,
          "outputs_hidden": false
        },
        "nteract": {
          "transient": {
            "deleting": false
          }
        }
      }
    },
    {
      "cell_type": "markdown",
      "source": [
        "### Obtain the Swagger URL if successfully deployed"
      ],
      "metadata": {}
    },
    {
      "cell_type": "code",
      "source": [
        "aksservice.swagger_uri"
      ],
      "outputs": [
        {
          "output_type": "execute_result",
          "execution_count": 43,
          "data": {
            "text/plain": "'http://23.101.156.108:80/api/v1/service/aks-service/swagger.json'"
          },
          "metadata": {}
        }
      ],
      "execution_count": 43,
      "metadata": {
        "tags": [
          "Test the auto-generated Swagger interface/n"
        ],
        "gather": {
          "logged": 1607888536288
        }
      }
    },
    {
      "cell_type": "markdown",
      "source": [
        "### Test web service - run mehtod\r\n",
        "Call the web service with some dummy input data to get a prediction."
      ],
      "metadata": {}
    },
    {
      "cell_type": "code",
      "source": [
        "import json\n",
        "\n",
        "# Raw dataset (Actual Diabetic is 1)\n",
        "test_sample = json.dumps({\"data\": [{\n",
        "        \"Pregnancies\": 9,\n",
        "        \"PlasmaGlucose\": 103,\n",
        "        \"DiastolicBloodPressure\": 78,\n",
        "        \"TricepsThickness\": 25,\n",
        "        \"SerumInsulin\": 309,\n",
        "        \"BMI\": 29.58,\n",
        "        \"DiabetesPedigree\": 1.28,\n",
        "        \"Age\": 43,}]})\n",
        "\n",
        "test_sample = bytes(test_sample,encoding = 'utf8')\n",
        "prediction = aksservice.run(input_data=test_sample)\n",
        "print(prediction)\n",
        "\n",
        "\n",
        "# Raw dataset (Actual Diabetic is 0)\n",
        "test_sample = json.dumps({\"data\": [{\n",
        "        \"Pregnancies\": 0,\n",
        "        \"PlasmaGlucose\": 171,\n",
        "        \"DiastolicBloodPressure\": 80,\n",
        "        \"TricepsThickness\": 34,\n",
        "        \"SerumInsulin\": 23,\n",
        "        \"BMI\": 43.51,\n",
        "        \"DiabetesPedigree\": 1.21,\n",
        "        \"Age\": 21,}]})\n",
        "\n",
        "test_sample = bytes(test_sample,encoding = 'utf8')\n",
        "prediction = aksservice.run(input_data=test_sample)\n",
        "print(prediction)\n"
      ],
      "outputs": [
        {
          "output_type": "stream",
          "name": "stderr",
          "text": [
            "ERROR - Received bad response from service. More information can be found by calling `.get_logs()` on the webservice object.\n",
            "Response Code: 503\n",
            "Headers: {'cache-control': 'max-age=0, private, must-revalidate', 'content-length': '97', 'content-type': 'text/plain; charset=utf-8', 'date': 'Sun, 13 Dec 2020 19:42:33 GMT', 'server': 'Cowboy', 'x-ms-request-id': '0c23724a-df54-41c9-b763-b0c3125740a4'}\n",
            "Content: b'No ready replicas for service aks-service. \\nHelp: https://go.microsoft.com/fwlink/?linkid=2146747'\n",
            "\n"
          ]
        },
        {
          "output_type": "error",
          "ename": "WebserviceException",
          "evalue": "WebserviceException:\n\tMessage: Received bad response from service. More information can be found by calling `.get_logs()` on the webservice object.\nResponse Code: 503\nHeaders: {'cache-control': 'max-age=0, private, must-revalidate', 'content-length': '97', 'content-type': 'text/plain; charset=utf-8', 'date': 'Sun, 13 Dec 2020 19:42:33 GMT', 'server': 'Cowboy', 'x-ms-request-id': '0c23724a-df54-41c9-b763-b0c3125740a4'}\nContent: b'No ready replicas for service aks-service. \\nHelp: https://go.microsoft.com/fwlink/?linkid=2146747'\n\tInnerException None\n\tErrorResponse \n{\n    \"error\": {\n        \"message\": \"Received bad response from service. More information can be found by calling `.get_logs()` on the webservice object.\\nResponse Code: 503\\nHeaders: {'cache-control': 'max-age=0, private, must-revalidate', 'content-length': '97', 'content-type': 'text/plain; charset=utf-8', 'date': 'Sun, 13 Dec 2020 19:42:33 GMT', 'server': 'Cowboy', 'x-ms-request-id': '0c23724a-df54-41c9-b763-b0c3125740a4'}\\nContent: b'No ready replicas for service aks-service. \\\\nHelp: https://go.microsoft.com/fwlink/?linkid=2146747'\"\n    }\n}",
          "traceback": [
            "\u001b[0;31m---------------------------------------------------------------------------\u001b[0m",
            "\u001b[0;31mWebserviceException\u001b[0m                       Traceback (most recent call last)",
            "\u001b[0;32m<ipython-input-44-22f57d1f93cd>\u001b[0m in \u001b[0;36m<module>\u001b[0;34m\u001b[0m\n\u001b[1;32m     13\u001b[0m \u001b[0;34m\u001b[0m\u001b[0m\n\u001b[1;32m     14\u001b[0m \u001b[0mtest_sample\u001b[0m \u001b[0;34m=\u001b[0m \u001b[0mbytes\u001b[0m\u001b[0;34m(\u001b[0m\u001b[0mtest_sample\u001b[0m\u001b[0;34m,\u001b[0m\u001b[0mencoding\u001b[0m \u001b[0;34m=\u001b[0m \u001b[0;34m'utf8'\u001b[0m\u001b[0;34m)\u001b[0m\u001b[0;34m\u001b[0m\u001b[0;34m\u001b[0m\u001b[0m\n\u001b[0;32m---> 15\u001b[0;31m \u001b[0mprediction\u001b[0m \u001b[0;34m=\u001b[0m \u001b[0maksservice\u001b[0m\u001b[0;34m.\u001b[0m\u001b[0mrun\u001b[0m\u001b[0;34m(\u001b[0m\u001b[0minput_data\u001b[0m\u001b[0;34m=\u001b[0m\u001b[0mtest_sample\u001b[0m\u001b[0;34m)\u001b[0m\u001b[0;34m\u001b[0m\u001b[0;34m\u001b[0m\u001b[0m\n\u001b[0m\u001b[1;32m     16\u001b[0m \u001b[0mprint\u001b[0m\u001b[0;34m(\u001b[0m\u001b[0mprediction\u001b[0m\u001b[0;34m)\u001b[0m\u001b[0;34m\u001b[0m\u001b[0;34m\u001b[0m\u001b[0m\n\u001b[1;32m     17\u001b[0m \u001b[0;34m\u001b[0m\u001b[0m\n",
            "\u001b[0;32m/anaconda/envs/azureml_py36/lib/python3.6/site-packages/azureml/core/webservice/aks.py\u001b[0m in \u001b[0;36mrun\u001b[0;34m(self, input_data)\u001b[0m\n\u001b[1;32m    531\u001b[0m                                       \u001b[0;34m'Headers: {}\\n'\u001b[0m\u001b[0;34m\u001b[0m\u001b[0;34m\u001b[0m\u001b[0m\n\u001b[1;32m    532\u001b[0m                                       \u001b[0;34m'Content: {}'\u001b[0m\u001b[0;34m.\u001b[0m\u001b[0mformat\u001b[0m\u001b[0;34m(\u001b[0m\u001b[0mresp\u001b[0m\u001b[0;34m.\u001b[0m\u001b[0mstatus_code\u001b[0m\u001b[0;34m,\u001b[0m \u001b[0mresp\u001b[0m\u001b[0;34m.\u001b[0m\u001b[0mheaders\u001b[0m\u001b[0;34m,\u001b[0m \u001b[0mresp\u001b[0m\u001b[0;34m.\u001b[0m\u001b[0mcontent\u001b[0m\u001b[0;34m)\u001b[0m\u001b[0;34m,\u001b[0m\u001b[0;34m\u001b[0m\u001b[0;34m\u001b[0m\u001b[0m\n\u001b[0;32m--> 533\u001b[0;31m                                       logger=module_logger)\n\u001b[0m\u001b[1;32m    534\u001b[0m \u001b[0;34m\u001b[0m\u001b[0m\n\u001b[1;32m    535\u001b[0m     def update(self, image=None, autoscale_enabled=None, autoscale_min_replicas=None, autoscale_max_replicas=None,\n",
            "\u001b[0;31mWebserviceException\u001b[0m: WebserviceException:\n\tMessage: Received bad response from service. More information can be found by calling `.get_logs()` on the webservice object.\nResponse Code: 503\nHeaders: {'cache-control': 'max-age=0, private, must-revalidate', 'content-length': '97', 'content-type': 'text/plain; charset=utf-8', 'date': 'Sun, 13 Dec 2020 19:42:33 GMT', 'server': 'Cowboy', 'x-ms-request-id': '0c23724a-df54-41c9-b763-b0c3125740a4'}\nContent: b'No ready replicas for service aks-service. \\nHelp: https://go.microsoft.com/fwlink/?linkid=2146747'\n\tInnerException None\n\tErrorResponse \n{\n    \"error\": {\n        \"message\": \"Received bad response from service. More information can be found by calling `.get_logs()` on the webservice object.\\nResponse Code: 503\\nHeaders: {'cache-control': 'max-age=0, private, must-revalidate', 'content-length': '97', 'content-type': 'text/plain; charset=utf-8', 'date': 'Sun, 13 Dec 2020 19:42:33 GMT', 'server': 'Cowboy', 'x-ms-request-id': '0c23724a-df54-41c9-b763-b0c3125740a4'}\\nContent: b'No ready replicas for service aks-service. \\\\nHelp: https://go.microsoft.com/fwlink/?linkid=2146747'\"\n    }\n}"
          ]
        }
      ],
      "execution_count": 44,
      "metadata": {
        "gather": {
          "logged": 1607877903295
        }
      }
    },
    {
      "cell_type": "markdown",
      "source": [
        "### Test web service - HTTP request\r\n",
        "Alternatively you can construct a raw HTTP request and send it to the service. In this case you need to explicitly pass the HTTP header and the API key.\r\n"
      ],
      "metadata": {
        "nteract": {
          "transient": {
            "deleting": false
          }
        }
      }
    },
    {
      "cell_type": "code",
      "source": [
        "# if (key) auth is enabled, retrieve the API keys. AML generates two keys.\r\n",
        "key1, key2 = aksservice.get_keys()\r\n",
        "print(key1)\r\n",
        "print(key2)"
      ],
      "outputs": [],
      "execution_count": null,
      "metadata": {
        "collapsed": true,
        "jupyter": {
          "source_hidden": false,
          "outputs_hidden": false
        },
        "nteract": {
          "transient": {
            "deleting": false
          }
        },
        "gather": {
          "logged": 1607878070601
        }
      }
    },
    {
      "cell_type": "code",
      "source": [
        "# construct raw HTTP request and send to the service\r\n",
        "import requests\r\n",
        "import json\r\n",
        "\r\n",
        "\r\n",
        "# Raw dataset (Actual Diabetic is 1)\r\n",
        "test_sample = json.dumps({\"data\": [{\r\n",
        "        \"Pregnancies\": 9,\r\n",
        "        \"PlasmaGlucose\": 103,\r\n",
        "        \"DiastolicBloodPressure\": 78,\r\n",
        "        \"TricepsThickness\": 25,\r\n",
        "        \"SerumInsulin\": 309,\r\n",
        "        \"BMI\": 29.58,\r\n",
        "        \"DiabetesPedigree\": 1.28,\r\n",
        "        \"Age\": 43,}]})\r\n",
        "test_sample = bytes(test_sample,encoding = 'utf8')\r\n",
        "\r\n",
        "# If (key) auth is enabled, don't forget to add key to the HTTP header.\r\n",
        "headers = {'Content-Type':'application/json', 'Authorization': 'Bearer ' + key1}\r\n",
        "response = requests.post(aksservice.scoring_uri, test_sample, headers=headers)\r\n",
        "print(\"prediction:\", response.text)"
      ],
      "outputs": [],
      "execution_count": null,
      "metadata": {
        "collapsed": true,
        "jupyter": {
          "source_hidden": false,
          "outputs_hidden": false
        },
        "nteract": {
          "transient": {
            "deleting": false
          }
        },
        "gather": {
          "logged": 1607878331577
        }
      }
    },
    {
      "cell_type": "markdown",
      "source": [
        "### Clean up"
      ],
      "metadata": {}
    },
    {
      "cell_type": "markdown",
      "source": [
        "Delete the ACI instance to stop the compute and any associated billing."
      ],
      "metadata": {}
    },
    {
      "cell_type": "code",
      "source": [
        "%%time\n",
        "aksservice.delete()\n",
        "model.delete()"
      ],
      "outputs": [],
      "execution_count": null,
      "metadata": {
        "tags": [
          "deploy service",
          "aci"
        ]
      }
    },
    {
      "cell_type": "markdown",
      "source": [
        "<a id='nextsteps'></a>\n",
        "## Next Steps"
      ],
      "metadata": {}
    },
    {
      "cell_type": "markdown",
      "source": [
        "In this example, you created a series of models inside the notebook using local data, stored them inside an AML experiment, found the best one and deployed it as a live service!  From here you can continue to use Azure Machine Learning in this regard to run your own experiments and deploy your own models, or you can expand into further capabilities of AML!\n",
        "\n",
        "If you have a model that is difficult to process locally, either because the data is remote or the model is large, try the [train-on-remote-vm](../train-on-remote-vm) notebook to learn about submitting remote jobs.\n",
        "\n",
        "If you want to take advantage of multiple cloud machines to perform large parameter sweeps try the [train-hyperparameter-tune-deploy-with-pytorch](../../training-with-deep-learning/train-hyperparameter-tune-deploy-with-pytorch\n",
        ") sample.\n",
        "\n",
        "If you want to deploy models to a production cluster try the [production-deploy-to-aks](../../deployment/production-deploy-to-aks\n",
        ") notebook."
      ],
      "metadata": {}
    }
  ],
  "metadata": {
    "index_order": 1,
    "exclude_from_index": false,
    "task": "Training and deploying a model from a notebook",
    "deployment": [
      "Azure Container Instance"
    ],
    "authors": [
      {
        "name": "roastala"
      }
    ],
    "kernel_info": {
      "name": "python3-azureml"
    },
    "language_info": {
      "name": "python",
      "version": "3.6.9",
      "mimetype": "text/x-python",
      "codemirror_mode": {
        "name": "ipython",
        "version": 3
      },
      "pygments_lexer": "ipython3",
      "nbconvert_exporter": "python",
      "file_extension": ".py"
    },
    "compute": [
      "Local"
    ],
    "kernelspec": {
      "name": "python3-azureml",
      "language": "python",
      "display_name": "Python 3.6 - AzureML"
    },
    "tags": [
      "None"
    ],
    "datasets": [
      "Diabetes"
    ],
    "category": "tutorial",
    "framework": [
      "None"
    ],
    "friendly_name": "Train and deploy a model using Python SDK",
    "nteract": {
      "version": "nteract-front-end@1.0.0"
    }
  },
  "nbformat": 4,
  "nbformat_minor": 2
}
